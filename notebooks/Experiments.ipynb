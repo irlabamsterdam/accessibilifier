{
 "cells": [
  {
   "cell_type": "markdown",
   "id": "f85d6169",
   "metadata": {},
   "source": [
    "# OCR Correction in Dutch Government Documents \n",
    "**Code for the TPDL 2023 Short paper \"Making PDFs Accessible for Visually Impaired\n",
    "Users (and Findable for Everybody Else)\"**"
   ]
  },
  {
   "cell_type": "markdown",
   "id": "25b67c40",
   "metadata": {},
   "source": [
    "In this notebook we present the code used to obtain the results we presented in the TPDL short paper currently under review. We will be testing a simple method to detect bad segments in OCRed text of released government documents using wordlist membership, which we will be using to compare the quality of the original text in the PDF (extracted using pdftotext) and text extracted using Tesseract, and see whether the usage of Tesseract increases the overall quality. We then also use ChatGPT to correct the texts and evaluate the effectiveness of this measure.\n",
    "\n",
    "**Note**: In line with OpenAI policies we do not share our private API token, so you will have to request your own, the free OpenAI token that grants a 5 dollor budget should be more than enough to run the examples that we did.\n",
    "\n",
    "## Index\n",
    "1. [Setting Up](#setup)\n",
    "2. [Word List Based Detection](#wordlists)\n",
    "3. [PDFToText and Tesseract Comparison](#comparison)\n",
    "3. [ChatGPT](#chatgpt)"
   ]
  },
  {
   "cell_type": "markdown",
   "id": "32c826f0",
   "metadata": {},
   "source": [
    "<h1><a id=\"setup\"> Setting Things Up</a></h1>\n",
    "\n",
    "First we are going to detect bad segments based on a list of Dutch words. We consider segments bad if they contain words that are not in the word list, but we also consider segments bad if there are at most N consecutive good words in the segments, where N is a parameter. We update the wordlist with words from the ParlaMint dataset as this is also from the political domain, and might give us some more domain specific words. All the required files are present in the `data` folder."
   ]
  },
  {
   "cell_type": "code",
   "execution_count": 14,
   "id": "3e0c9969",
   "metadata": {},
   "outputs": [],
   "source": [
    "# Load in parlamint\n",
    "import pandas as pd\n",
    "from tqdm import tqdm\n",
    "from typing import List\n",
    "from cleantext import clean\n",
    "import matplotlib.pyplot as plt\n",
    "from nltk.tokenize import word_tokenize, sent_tokenize\n",
    "\n",
    "# We also load a preprocessing file, which contains functions for getting the updated word list,\n",
    "# the full tokenization/cleaning pipeline as well as several other functions.\n",
    "from preprocessing import *"
   ]
  },
  {
   "cell_type": "code",
   "execution_count": 15,
   "id": "9656a6e9",
   "metadata": {},
   "outputs": [],
   "source": [
    "# Load the word list file that has been updated with ParlaMint words\n",
    "with open('../data/wordlist.txt', 'r') as f:\n",
    "        dutch_wordlist = set([item.strip() for item in f.readlines()])"
   ]
  },
  {
   "cell_type": "code",
   "execution_count": 16,
   "id": "d1285089",
   "metadata": {},
   "outputs": [
    {
     "name": "stdout",
     "output_type": "stream",
     "text": [
      "The word list (with parlamint added) contains 538039 unique words\n"
     ]
    }
   ],
   "source": [
    "print(\"The word list (with parlamint added) contains %d unique words\" % len(dutch_wordlist))"
   ]
  },
  {
   "cell_type": "markdown",
   "id": "db387061",
   "metadata": {},
   "source": [
    "The above wordlist has been constructed as a combination from the wordlist from the ParlaMint dataset and the wordlist from the TaalUnie. We will now also do a small comparison to show the differences between the wordlists, and how much we added by adding the word list from ParlaMint."
   ]
  },
  {
   "cell_type": "code",
   "execution_count": 17,
   "id": "d1062a30",
   "metadata": {},
   "outputs": [],
   "source": [
    "# Load in the parlamint wordlist and the wordlist without parlamint seperately.\n",
    "with open('../data/taalunie_wordlist.txt', 'r') as f:\n",
    "        dutch_wordlist_without_parlamint = set([item.strip().lower() for item in f.readlines()])\n",
    "        \n",
    "with open('../data/parlamint_wordlist.txt', 'r') as f:\n",
    "        parlamint_wordlist = set([item.strip().lower() for item in f.readlines()])"
   ]
  },
  {
   "cell_type": "code",
   "execution_count": 18,
   "id": "ac60c70f",
   "metadata": {},
   "outputs": [
    {
     "name": "stdout",
     "output_type": "stream",
     "text": [
      "The TaalUnie word list has a total of 409555 unique words\n",
      "The Parlamint dataset has a total of 239159 unique words\n",
      "Together both word list contain 648714 words\n",
      "The general wordlist and the parlamint word list have 109809 words in common\n",
      "Taalunie has 299746 words not occurring in the ParlaMint dataset\n",
      "ParlaMint has 129350 words not occurring in the TaalUnie dataset\n"
     ]
    }
   ],
   "source": [
    "print(\"The TaalUnie word list has a total of %d unique words\" % len(dutch_wordlist_without_parlamint))\n",
    "print(\"The Parlamint dataset has a total of %d unique words\" % len(parlamint_wordlist))\n",
    "print(\"Together both word list contain %d words\" % (len(dutch_wordlist_without_parlamint)+len(parlamint_wordlist)))\n",
    "print(\"The general wordlist and the parlamint word list have %d words in common\" % len(dutch_wordlist_without_parlamint & parlamint_wordlist))\n",
    "print(\"Taalunie has %d words not occurring in the ParlaMint dataset\" % len(dutch_wordlist_without_parlamint-parlamint_wordlist))\n",
    "print(\"ParlaMint has %d words not occurring in the TaalUnie dataset\" % len(parlamint_wordlist-dutch_wordlist_without_parlamint))"
   ]
  },
  {
   "cell_type": "markdown",
   "id": "293e9d30",
   "metadata": {},
   "source": [
    "### Loading in the dataset\n",
    "\n",
    "We load in the text from all the pages that are part of besluiten/decisions and apply some filtering to remove pages that have been missclassified as being part of a besluit. The final version is available in the github repo."
   ]
  },
  {
   "cell_type": "code",
   "execution_count": 19,
   "id": "8330811f",
   "metadata": {},
   "outputs": [],
   "source": [
    "experiment_dataframe = pd.read_csv('../data/data.csv.gz')\n",
    "# set the index properly so its unique for every page\n",
    "experiment_dataframe['DOCUMENT_ID'] = experiment_dataframe['ID'].str.split('.').str[:-1].str.join(sep='')"
   ]
  },
  {
   "cell_type": "markdown",
   "id": "37d0d26a",
   "metadata": {},
   "source": [
    "<h1><a id=\"wordlists\">Word List Membership Detection</a></h1>\n",
    "\n",
    "Now that we have an updated word list we will be using this to detect bad passages in the besluiten text. We will be doing this for both the Tesseract and pdftotext types and makes comparisons, as well as playing with the tolerance threshold on good words, to see the impact of this threshold. Let's code up the rules in numpy first, then compare threshold, and then compare the two ocr types.\n"
   ]
  },
  {
   "cell_type": "code",
   "execution_count": 20,
   "id": "2a8146ef",
   "metadata": {},
   "outputs": [],
   "source": [
    "import numpy as np\n",
    "class BadSegmentDetector:\n",
    "    def __init__(self, word_list_path: str = '../data/wordlist.txt'):\n",
    "        # Read in the word list\n",
    "        with open(word_list_path, 'r') as f:\n",
    "            all_dutch_words = set([item.strip().lower() for item in f.readlines()])\n",
    "        # remove any numbers from the word list, as we have also remove them from the page tokens.\n",
    "        self.word_list = set([item for item in all_dutch_words if not any(char.isdigit() for char in item)])\n",
    "\n",
    "    def wordlist_membership(self, list_of_tokens: List[str]) -> List[bool]:\n",
    "        # simply check whether a token appears in the word list or not\n",
    "        return np.array([token in self.word_list for token in list_of_tokens])\n",
    "\n",
    "    @staticmethod\n",
    "    def preprocess(input_string: str, clean_input: bool = True) -> List[str]:\n",
    "        \"\"\"\n",
    "        :param input_string: string containing the text to be preprocessed\n",
    "        :param clean_input: boolean specifying whether to clean the input, \n",
    "        if this is Fale then only tokenization is performed.\n",
    "        Function that handles the preprocessing of input text performs two steps\n",
    "        1. Normalization by removing non-unicode characters and normalizing whitespace\n",
    "        2. Tokenization using nltk\n",
    "        :returns: A list of tokens\n",
    "        \"\"\"\n",
    "        # perform normalization and tokenization\n",
    "        if clean_input:\n",
    "            input_string = clean_func(input_string)\n",
    "        tokenized_text = word_tokenize(input_string)\n",
    "        return tokenized_text\n",
    "        \n",
    "    def detect_bad_segments(self, input_text: str, tolerance=3, clean_input: bool=True) -> np.ndarray:\n",
    "        \"\"\"\n",
    "        Function that detects bad segment in a list of input tokens based on the \n",
    "        word list.\n",
    "        :param inpuput_text: string that contains the input text for which we \n",
    "        calculate the bad segments\n",
    "        :param tolerance: integer specifying the tolerance of good words within a \n",
    "        pad segment\n",
    "        :param clean_input: boolean specifying whether to clean the input, \n",
    "        if this is Fale then only tokenization is performed.\n",
    "        :returns: numpy array with a boolean vector for each token indication whether it is \n",
    "        part of a bad segment or not.\n",
    "        \"\"\"\n",
    "        # Get the input tokens from the text\n",
    "        tokenized_sample = self.preprocess(input_text, clean_input=clean_input)\n",
    "        # Get a boolean vector for each word in the in text indicating whether\n",
    "        # it is in the wordlist or not.\n",
    "        word_list_array = self.wordlist_membership(tokenized_sample)\n",
    "        # Get the words that are in the wordlist\n",
    "        wordlist_members = word_list_array.nonzero()[0]\n",
    "        # Get the start of good segment\n",
    "        good_prefixes = np.diff(wordlist_members, prepend=-2)\n",
    "        good_prefixes = wordlist_members[good_prefixes > 1]\n",
    "\n",
    "        # Check whether a good segment is within the tolerance\n",
    "        # if it is its part of a bad segment, otherwise it is ok.\n",
    "        for item in good_prefixes:\n",
    "            sequence = word_list_array[item: item+tolerance]\n",
    "            if not np.all(sequence):\n",
    "                word_list_array[item:item+tolerance-1] = False\n",
    "\n",
    "        return np.logical_not(word_list_array)"
   ]
  },
  {
   "cell_type": "code",
   "execution_count": 21,
   "id": "10107cca",
   "metadata": {},
   "outputs": [],
   "source": [
    "# set up the segmenter for some examples\n",
    "wordlist_segmenter = BadSegmentDetector()"
   ]
  },
  {
   "cell_type": "markdown",
   "id": "badcc6a4",
   "metadata": {},
   "source": [
    "We will test the segmenter on a sample from the dataet, highlightin bad segments in the text with light blue."
   ]
  },
  {
   "cell_type": "code",
   "execution_count": 22,
   "id": "814ebbbf",
   "metadata": {},
   "outputs": [],
   "source": [
    "from IPython.display import HTML, display, Markdown\n",
    "sample_index = 2014\n",
    "sample_page_output = wordlist_segmenter.detect_bad_segments(experiment_dataframe['original'].iloc[sample_index])\n",
    "page_tokens = wordlist_segmenter.preprocess(experiment_dataframe['original'].iloc[sample_index])"
   ]
  },
  {
   "cell_type": "code",
   "execution_count": 23,
   "id": "aed86d89",
   "metadata": {},
   "outputs": [
    {
     "data": {
      "text/markdown": [
       "<p style='background-color:powderblue;display: inline-block;'>1van</p> opvragen archief verzonden donderdag november aan <p style='background-color:powderblue;display: inline-block;'>wobpublicaties</p> onderwerp fw opvragen informatie archief verg <p style='background-color:powderblue;display: inline-block;'>unningen</p> <p style='background-color:powderblue;display: inline-block;'>donkeregaard</p> te utrecht van opvragen archief verzonden donderdag november aan onderwerp re opvragen informatie archief vergunningen geachte mevrouw wij hebben besloten om de door u gevraagde informatie openbaar te maken met uitzondering van persoonsgegevens zie voor nadere toelichting hieronder klik op deze link om het dossier <p style='background-color:powderblue;display: inline-block;'>hzwabo</p> <p style='background-color:powderblue;display: inline-block;'>te</p> <p style='background-color:powderblue;display: inline-block;'>do</p> <p style='background-color:powderblue;display: inline-block;'>wnloaden</p> wij raden u aan de bestanden binnen dagen te downloaden na deze periode worden ze automatisch verwijderd toelichting op verstrekte informatie het belang van de eerbiediging van de persoonlijke le <p style='background-color:powderblue;display: inline-block;'>venssfeer</p> artikel lid sub <p style='background-color:powderblue;display: inline-block;'>e</p> wob vinden wij zwaarder wegen dan het belang van openbaar maki ng van deze gegevens om die reden zijn de persoonsgegevens onleesbaar gemaakt op tekeningen en rapporten kan auteursrecht zitten als u deze informatie wilt hergebruiken dient u aan de rechthebbende toestemming te vragen hebt u nog vragen reageer dan op deze email de gemeente utrecht is continu be <p style='background-color:powderblue;display: inline-block;'>zig</p> om de dienstverlening te <p style='background-color:powderblue;display: inline-block;'>verb</p> <p style='background-color:powderblue;display: inline-block;'>eteren</p> wij zouden het op prijs stellen als u ons klanttevredenheidsonderzoek zou willen invullen dit kost slechts minuten van uw tijd klik hier om naar het onderzoek te gaan hartelijk dank hoogachtend namens het college van burgemeester en wethouders van utrecht drs ha lesscher directeur vergunningen toezicht en handhaving dit besluit wordt digitaal en zonder ondertekening verstuurd bezwaar maken bent u het niet eens met het besluit in deze brief dan kunt u daar tegen bezwaar maken dit moet u doen binnen weken na de datum va <p style='background-color:powderblue;display: inline-block;'>n</p> deze brief dat kan als volgt <p style='background-color:powderblue;display: inline-block;'></p> <p style='background-color:powderblue;display: inline-block;'>online</p> <p style='background-color:powderblue;display: inline-block;'>via</p> <p style='background-color:powderblue;display: inline-block;'></p> met een brief aan het college van burgemeester en wethouders van utrecht postbus ce utrecht in het <p style='background-color:powderblue;display: inline-block;'>bezwaarsch</p> <p style='background-color:powderblue;display: inline-block;'>rift</p> staat in elk geval uw naam adres telefoonnummer datum en handtekening kenmerk en datum van deze <p style='background-color:powderblue;display: inline-block;'>besluitbrief</p> reden van uw bezwaar"
      ],
      "text/plain": [
       "<IPython.core.display.Markdown object>"
      ]
     },
     "metadata": {},
     "output_type": "display_data"
    }
   ],
   "source": [
    "# Show the bad segments with colored markup\n",
    "display(Markdown(\" \".join(\"<p style='background-color:powderblue;display: inline-block;'>%s</p>\" % page_tokens[i] if sample_page_output[i] else page_tokens[i] for i in range(len(page_tokens)))))"
   ]
  },
  {
   "cell_type": "markdown",
   "id": "e29936fc",
   "metadata": {},
   "source": [
    "<h1><a id=\"comparison\">Comparing the Original Text with Tesseract</a></h1>"
   ]
  },
  {
   "cell_type": "markdown",
   "id": "f1b66b92",
   "metadata": {},
   "source": [
    "In this part we will be comparing the quality of the original text with the output of the Tesseract model by comparing the statistics of the detected bad segments by our simple method. We will make distribution plots for a few of the statistics, namely the `number of bad segments`, the `bad ratio` and the `mean bad segment length`. Here we run with our default of 3 good tokens tolerance, which we will also use throughout the rest of the paper."
   ]
  },
  {
   "cell_type": "markdown",
   "id": "6226d46f",
   "metadata": {},
   "source": [
    "We have to be a bit careful here, as especially the original text has quite a lot of pages where text is missing, and this will influence the numbers that we take. We will add the information to the entire dataframe, but when making the results we will focus only on cases where both versions actually have text."
   ]
  },
  {
   "cell_type": "code",
   "execution_count": 24,
   "id": "ae828e7a",
   "metadata": {},
   "outputs": [
    {
     "name": "stdout",
     "output_type": "stream",
     "text": [
      "The original text has 7908 empty pages\n",
      "Tesseract has 658 empty pages\n"
     ]
    }
   ],
   "source": [
    "print(\"The original text has %d empty pages\" % experiment_dataframe['original'].isna().sum())\n",
    "print(\"Tesseract has %d empty pages\" % experiment_dataframe['tesseract'].isna().sum())"
   ]
  },
  {
   "cell_type": "markdown",
   "id": "f79690e4",
   "metadata": {},
   "source": [
    "Below we will write a function that will calculate the bad segments for every page in our datasets, and will also calculate various statistics that we can then use to obtain the stats over both versions of text."
   ]
  },
  {
   "cell_type": "code",
   "execution_count": 25,
   "id": "c675609c",
   "metadata": {},
   "outputs": [],
   "source": [
    "# First some code to get general stats on all text (or a selection)\n",
    "def run_bad_segment_detection(input_dataframe: list, tolerance: int):\n",
    "    \"\"\"\n",
    "    Function that runs that bad segment detection on a dataframe and returns\n",
    "    general statistics on the bad segments in the text.\n",
    "    \"\"\"\n",
    "    det = BadSegmentDetector()\n",
    "    all_bad_segment_lengths = []\n",
    "    all_segment_indices = []\n",
    "    results = dict()\n",
    "    for document_id, document in tqdm(input_dataframe.to_dict().items()):\n",
    "        bad_segments = det.detect_bad_segments(document, tolerance=tolerance, clean_input=False)\n",
    "        # skips empty pages\n",
    "        if True in bad_segments:\n",
    "            bad_segment_length = np.diff(np.where(np.concatenate(([bad_segments[0]],\n",
    "                         bad_segments[:-1] != bad_segments[1:],\n",
    "                         [True])))[0])[::2]\n",
    "            num_bad_segments = len(bad_segment_length)\n",
    "            all_bad_segment_lengths.extend(bad_segment_length)\n",
    "        else:\n",
    "            num_bad_segments = 0\n",
    "            bad_segment_length = np.array([0])\n",
    "\n",
    "        starts = np.nonzero(np.diff(bad_segments.astype(int)) == 1)[0]+1\n",
    "        stops = np.nonzero(np.diff(bad_segments.astype(int)) == -1)[0]+1\n",
    "        \n",
    "        if bad_segments[0]:\n",
    "            starts = np.insert(starts, 0, 0)\n",
    "        if bad_segments[-1]:\n",
    "            stops = np.append(stops, len(bad_segments))\n",
    "            \n",
    "        segment_indices = list(zip(starts, stops))\n",
    "        all_segment_indices.append(segment_indices)\n",
    "\n",
    "        mean_bad_segment_length = bad_segment_length.mean()\n",
    "        num_bad_tokens = bad_segments.sum().astype(int)\n",
    "        shortest_bad_segment, longest_bad_segment = bad_segment_length.min().astype(int), bad_segment_length.max().astype(int)\n",
    "        results[document_id] = {'Number of bad Segments': num_bad_segments,\n",
    "                            'Mean Bad Segment Length': mean_bad_segment_length,\n",
    "                            'Max Bad Segment Length': longest_bad_segment,\n",
    "                            'Min Bad Segment Length': shortest_bad_segment,\n",
    "                            'Number of bad Tokens': num_bad_tokens,\n",
    "                            'Bad Ratio': bad_segments.mean(),\n",
    "                            'Num Tokens': len(bad_segments)}\n",
    "        \n",
    "    return pd.DataFrame.from_dict(results, orient='index'), all_bad_segment_lengths, all_segment_indices\n",
    "        "
   ]
  },
  {
   "cell_type": "code",
   "execution_count": 26,
   "id": "913615a8",
   "metadata": {},
   "outputs": [
    {
     "name": "stderr",
     "output_type": "stream",
     "text": [
      "100%|████████████████████████████████████| 17640/17640 [00:18<00:00, 951.24it/s]\n",
      "100%|████████████████████████████████████| 17640/17640 [00:17<00:00, 991.41it/s]\n"
     ]
    }
   ],
   "source": [
    "# run the algorithm on both versions.\n",
    "# We also get the length of all bad segments, and return this seperately as it is one a segment level, not a page level\n",
    "pages_with_ocr = experiment_dataframe.dropna(subset=['original', 'tesseract'])\n",
    "pdftotext_results, all_seg_lengths_pdf, pdftotext_indices = run_bad_segment_detection(pages_with_ocr['original'], tolerance=3)\n",
    "tesseract_results, all_seg_lengths_tes, tesseract_indices = run_bad_segment_detection(pages_with_ocr['tesseract'], tolerance=3)\n",
    "\n",
    "pdftotext_results['ID'] = pages_with_ocr['ID']\n",
    "tesseract_results['ID'] = pages_with_ocr['ID']\n",
    "pdftotext_results['publisher'] = pages_with_ocr['publisher']\n",
    "tesseract_results['publisher'] = pages_with_ocr['publisher']\n",
    "# Easiest thing is to make some distribution plots of the stats we got here between tesseract and pdftotext"
   ]
  },
  {
   "cell_type": "code",
   "execution_count": 27,
   "id": "ee14f411",
   "metadata": {},
   "outputs": [
    {
     "data": {
      "text/html": [
       "<div>\n",
       "<style scoped>\n",
       "    .dataframe tbody tr th:only-of-type {\n",
       "        vertical-align: middle;\n",
       "    }\n",
       "\n",
       "    .dataframe tbody tr th {\n",
       "        vertical-align: top;\n",
       "    }\n",
       "\n",
       "    .dataframe thead th {\n",
       "        text-align: right;\n",
       "    }\n",
       "</style>\n",
       "<table border=\"1\" class=\"dataframe\">\n",
       "  <thead>\n",
       "    <tr style=\"text-align: right;\">\n",
       "      <th></th>\n",
       "      <th>Number of bad Segments</th>\n",
       "      <th>Mean Bad Segment Length</th>\n",
       "      <th>Max Bad Segment Length</th>\n",
       "      <th>Min Bad Segment Length</th>\n",
       "      <th>Number of bad Tokens</th>\n",
       "      <th>Bad Ratio</th>\n",
       "      <th>Num Tokens</th>\n",
       "    </tr>\n",
       "  </thead>\n",
       "  <tbody>\n",
       "    <tr>\n",
       "      <th>count</th>\n",
       "      <td>17640.0</td>\n",
       "      <td>17640.0</td>\n",
       "      <td>17640.0</td>\n",
       "      <td>17640.0</td>\n",
       "      <td>17640.0</td>\n",
       "      <td>17640.0</td>\n",
       "      <td>17640.0</td>\n",
       "    </tr>\n",
       "    <tr>\n",
       "      <th>mean</th>\n",
       "      <td>7.8</td>\n",
       "      <td>6.7</td>\n",
       "      <td>10.3</td>\n",
       "      <td>5.1</td>\n",
       "      <td>22.9</td>\n",
       "      <td>0.1</td>\n",
       "      <td>291.6</td>\n",
       "    </tr>\n",
       "    <tr>\n",
       "      <th>std</th>\n",
       "      <td>9.4</td>\n",
       "      <td>68.0</td>\n",
       "      <td>71.7</td>\n",
       "      <td>66.6</td>\n",
       "      <td>84.5</td>\n",
       "      <td>0.2</td>\n",
       "      <td>157.9</td>\n",
       "    </tr>\n",
       "    <tr>\n",
       "      <th>min</th>\n",
       "      <td>0.0</td>\n",
       "      <td>0.0</td>\n",
       "      <td>0.0</td>\n",
       "      <td>0.0</td>\n",
       "      <td>0.0</td>\n",
       "      <td>0.0</td>\n",
       "      <td>1.0</td>\n",
       "    </tr>\n",
       "    <tr>\n",
       "      <th>25%</th>\n",
       "      <td>3.0</td>\n",
       "      <td>1.0</td>\n",
       "      <td>1.0</td>\n",
       "      <td>1.0</td>\n",
       "      <td>4.0</td>\n",
       "      <td>0.0</td>\n",
       "      <td>188.0</td>\n",
       "    </tr>\n",
       "    <tr>\n",
       "      <th>50%</th>\n",
       "      <td>6.0</td>\n",
       "      <td>1.4</td>\n",
       "      <td>3.0</td>\n",
       "      <td>1.0</td>\n",
       "      <td>10.0</td>\n",
       "      <td>0.0</td>\n",
       "      <td>295.0</td>\n",
       "    </tr>\n",
       "    <tr>\n",
       "      <th>75%</th>\n",
       "      <td>11.0</td>\n",
       "      <td>2.0</td>\n",
       "      <td>6.0</td>\n",
       "      <td>1.0</td>\n",
       "      <td>19.0</td>\n",
       "      <td>0.1</td>\n",
       "      <td>401.0</td>\n",
       "    </tr>\n",
       "    <tr>\n",
       "      <th>max</th>\n",
       "      <td>659.0</td>\n",
       "      <td>3186.0</td>\n",
       "      <td>3186.0</td>\n",
       "      <td>3186.0</td>\n",
       "      <td>3186.0</td>\n",
       "      <td>1.0</td>\n",
       "      <td>4385.0</td>\n",
       "    </tr>\n",
       "  </tbody>\n",
       "</table>\n",
       "</div>"
      ],
      "text/plain": [
       "       Number of bad Segments  Mean Bad Segment Length  \\\n",
       "count                 17640.0                  17640.0   \n",
       "mean                      7.8                      6.7   \n",
       "std                       9.4                     68.0   \n",
       "min                       0.0                      0.0   \n",
       "25%                       3.0                      1.0   \n",
       "50%                       6.0                      1.4   \n",
       "75%                      11.0                      2.0   \n",
       "max                     659.0                   3186.0   \n",
       "\n",
       "       Max Bad Segment Length  Min Bad Segment Length  Number of bad Tokens  \\\n",
       "count                 17640.0                 17640.0               17640.0   \n",
       "mean                     10.3                     5.1                  22.9   \n",
       "std                      71.7                    66.6                  84.5   \n",
       "min                       0.0                     0.0                   0.0   \n",
       "25%                       1.0                     1.0                   4.0   \n",
       "50%                       3.0                     1.0                  10.0   \n",
       "75%                       6.0                     1.0                  19.0   \n",
       "max                    3186.0                  3186.0                3186.0   \n",
       "\n",
       "       Bad Ratio  Num Tokens  \n",
       "count    17640.0     17640.0  \n",
       "mean         0.1       291.6  \n",
       "std          0.2       157.9  \n",
       "min          0.0         1.0  \n",
       "25%          0.0       188.0  \n",
       "50%          0.0       295.0  \n",
       "75%          0.1       401.0  \n",
       "max          1.0      4385.0  "
      ]
     },
     "execution_count": 27,
     "metadata": {},
     "output_type": "execute_result"
    }
   ],
   "source": [
    "pdftotext_results.drop(['ID', 'publisher'], axis=1).describe().round(1)"
   ]
  },
  {
   "cell_type": "code",
   "execution_count": 28,
   "id": "6177a932",
   "metadata": {},
   "outputs": [
    {
     "data": {
      "text/html": [
       "<div>\n",
       "<style scoped>\n",
       "    .dataframe tbody tr th:only-of-type {\n",
       "        vertical-align: middle;\n",
       "    }\n",
       "\n",
       "    .dataframe tbody tr th {\n",
       "        vertical-align: top;\n",
       "    }\n",
       "\n",
       "    .dataframe thead th {\n",
       "        text-align: right;\n",
       "    }\n",
       "</style>\n",
       "<table border=\"1\" class=\"dataframe\">\n",
       "  <thead>\n",
       "    <tr style=\"text-align: right;\">\n",
       "      <th></th>\n",
       "      <th>Number of bad Segments</th>\n",
       "      <th>Mean Bad Segment Length</th>\n",
       "      <th>Max Bad Segment Length</th>\n",
       "      <th>Min Bad Segment Length</th>\n",
       "      <th>Number of bad Tokens</th>\n",
       "      <th>Bad Ratio</th>\n",
       "      <th>Num Tokens</th>\n",
       "    </tr>\n",
       "  </thead>\n",
       "  <tbody>\n",
       "    <tr>\n",
       "      <th>count</th>\n",
       "      <td>17640.0</td>\n",
       "      <td>17640.0</td>\n",
       "      <td>17640.0</td>\n",
       "      <td>17640.0</td>\n",
       "      <td>17640.0</td>\n",
       "      <td>17640.0</td>\n",
       "      <td>17640.0</td>\n",
       "    </tr>\n",
       "    <tr>\n",
       "      <th>mean</th>\n",
       "      <td>6.5</td>\n",
       "      <td>1.9</td>\n",
       "      <td>4.2</td>\n",
       "      <td>1.2</td>\n",
       "      <td>13.0</td>\n",
       "      <td>0.1</td>\n",
       "      <td>293.9</td>\n",
       "    </tr>\n",
       "    <tr>\n",
       "      <th>std</th>\n",
       "      <td>5.8</td>\n",
       "      <td>5.2</td>\n",
       "      <td>10.1</td>\n",
       "      <td>4.5</td>\n",
       "      <td>28.2</td>\n",
       "      <td>0.1</td>\n",
       "      <td>138.1</td>\n",
       "    </tr>\n",
       "    <tr>\n",
       "      <th>min</th>\n",
       "      <td>0.0</td>\n",
       "      <td>0.0</td>\n",
       "      <td>0.0</td>\n",
       "      <td>0.0</td>\n",
       "      <td>0.0</td>\n",
       "      <td>0.0</td>\n",
       "      <td>1.0</td>\n",
       "    </tr>\n",
       "    <tr>\n",
       "      <th>25%</th>\n",
       "      <td>3.0</td>\n",
       "      <td>1.0</td>\n",
       "      <td>1.0</td>\n",
       "      <td>1.0</td>\n",
       "      <td>4.0</td>\n",
       "      <td>0.0</td>\n",
       "      <td>196.0</td>\n",
       "    </tr>\n",
       "    <tr>\n",
       "      <th>50%</th>\n",
       "      <td>5.0</td>\n",
       "      <td>1.2</td>\n",
       "      <td>2.0</td>\n",
       "      <td>1.0</td>\n",
       "      <td>8.0</td>\n",
       "      <td>0.0</td>\n",
       "      <td>300.0</td>\n",
       "    </tr>\n",
       "    <tr>\n",
       "      <th>75%</th>\n",
       "      <td>9.0</td>\n",
       "      <td>1.8</td>\n",
       "      <td>4.0</td>\n",
       "      <td>1.0</td>\n",
       "      <td>14.0</td>\n",
       "      <td>0.1</td>\n",
       "      <td>401.0</td>\n",
       "    </tr>\n",
       "    <tr>\n",
       "      <th>max</th>\n",
       "      <td>190.0</td>\n",
       "      <td>381.0</td>\n",
       "      <td>488.0</td>\n",
       "      <td>381.0</td>\n",
       "      <td>1440.0</td>\n",
       "      <td>1.0</td>\n",
       "      <td>2084.0</td>\n",
       "    </tr>\n",
       "  </tbody>\n",
       "</table>\n",
       "</div>"
      ],
      "text/plain": [
       "       Number of bad Segments  Mean Bad Segment Length  \\\n",
       "count                 17640.0                  17640.0   \n",
       "mean                      6.5                      1.9   \n",
       "std                       5.8                      5.2   \n",
       "min                       0.0                      0.0   \n",
       "25%                       3.0                      1.0   \n",
       "50%                       5.0                      1.2   \n",
       "75%                       9.0                      1.8   \n",
       "max                     190.0                    381.0   \n",
       "\n",
       "       Max Bad Segment Length  Min Bad Segment Length  Number of bad Tokens  \\\n",
       "count                 17640.0                 17640.0               17640.0   \n",
       "mean                      4.2                     1.2                  13.0   \n",
       "std                      10.1                     4.5                  28.2   \n",
       "min                       0.0                     0.0                   0.0   \n",
       "25%                       1.0                     1.0                   4.0   \n",
       "50%                       2.0                     1.0                   8.0   \n",
       "75%                       4.0                     1.0                  14.0   \n",
       "max                     488.0                   381.0                1440.0   \n",
       "\n",
       "       Bad Ratio  Num Tokens  \n",
       "count    17640.0     17640.0  \n",
       "mean         0.1       293.9  \n",
       "std          0.1       138.1  \n",
       "min          0.0         1.0  \n",
       "25%          0.0       196.0  \n",
       "50%          0.0       300.0  \n",
       "75%          0.1       401.0  \n",
       "max          1.0      2084.0  "
      ]
     },
     "execution_count": 28,
     "metadata": {},
     "output_type": "execute_result"
    }
   ],
   "source": [
    "tesseract_results.drop(['ID', 'publisher'], axis=1).describe().round(1)"
   ]
  },
  {
   "cell_type": "markdown",
   "id": "3c85f97b",
   "metadata": {},
   "source": [
    "In the two tables above we can see that statistics of the bad segments for both the original text and the Tesseract version, and we can clearly see that the Tesseract algorithm scores better on all aspects. Now we will do a bit more of a detailed analysis on the differences between the two versions."
   ]
  },
  {
   "cell_type": "code",
   "execution_count": 31,
   "id": "b982a07d",
   "metadata": {},
   "outputs": [
    {
     "data": {
      "image/png": "[encoded data removed]",
      "text/plain": [
       "<Figure size 720x216 with 3 Axes>"
      ]
     },
     "metadata": {
      "needs_background": "light"
     },
     "output_type": "display_data"
    }
   ],
   "source": [
    "import seaborn as sns\n",
    "import matplotlib.pyplot as plt\n",
    "fig, axes = plt.subplots(nrows=1, ncols=3, figsize=(10, 3))\n",
    "# Do the mean bad segment length first\n",
    "sns.kdeplot(pdftotext_results['Number of bad Segments'], ax=axes[0],  clip = (0.0, 100.0), label=\"original\", color='red')\n",
    "sns.kdeplot(tesseract_results['Number of bad Segments'], ax=axes[0],  clip = (0.0, 100.0), label='tesseract', color='blue', linestyle='--')\n",
    "\n",
    "axes[0].set_xscale('log')\n",
    "axes[0].set_xlabel(\"Number of bad segments\", fontsize=12)\n",
    "axes[0].legend()\n",
    "\n",
    "sns.kdeplot(pdftotext_results['Number of bad Tokens'], ax=axes[1], clip = (0.0, 100.0), label=\"original\", color='red')\n",
    "sns.kdeplot(tesseract_results['Number of bad Tokens'], ax=axes[1], clip = (0.0, 100.0), label='tesseract', color='blue', linestyle='--')\n",
    "axes[1].set_xscale('log')\n",
    "axes[1].set_xlabel(\"Number of bad words\", fontsize=12)\n",
    "axes[1].legend()\n",
    "\n",
    "sns.kdeplot(pd.Series(all_seg_lengths_pdf), ax=axes[2],  clip = (0.0, 25.0), label=\"original\", color='red')\n",
    "sns.kdeplot(pd.Series(all_seg_lengths_tes), ax=axes[2],  clip = (0.0, 25.0), label='tesseract', color='blue', linestyle='--')\n",
    "axes[2].set_xlabel(\"bad segment length\", fontsize=12)\n",
    "axes[2].legend()\n",
    "\n",
    "kdeline1 = axes[0].lines[0]\n",
    "kdeline2 = axes[0].lines[1]\n",
    "kdeline3 = axes[1].lines[0]\n",
    "kdeline4 = axes[1].lines[1]\n",
    "kdeline5 = axes[2].lines[0]\n",
    "kdeline6 = axes[2].lines[1]\n",
    "\n",
    "xs1, ys1 = kdeline1.get_xdata(), kdeline1.get_ydata()\n",
    "xs2, ys2 = kdeline2.get_xdata(), kdeline2.get_ydata()\n",
    "xs3, ys3 = kdeline3.get_xdata(), kdeline3.get_ydata()\n",
    "xs4, ys4 = kdeline4.get_xdata(), kdeline4.get_ydata()\n",
    "xs5, ys5 = kdeline5.get_xdata(), kdeline5.get_ydata()\n",
    "xs6, ys6 = kdeline6.get_xdata(), kdeline6.get_ydata()\n",
    "\n",
    "mean1 = pdftotext_results['Number of bad Segments'].median()\n",
    "mean2 = tesseract_results['Number of bad Segments'].median()\n",
    "mean3 = pdftotext_results['Number of bad Tokens'].median()\n",
    "mean4 = tesseract_results['Number of bad Tokens'].median()\n",
    "mean5 = pd.Series(all_seg_lengths_pdf).median()\n",
    "mean6 = pd.Series(all_seg_lengths_tes).median()\n",
    "\n",
    "height1 = np.interp(mean1, xs1, ys1)\n",
    "height2 = np.interp(mean2, xs2, ys2)\n",
    "height3 = np.interp(mean3, xs3, ys3)\n",
    "height4 = np.interp(mean4, xs4, ys4)\n",
    "height5 = np.interp(mean5, xs5, ys5)\n",
    "height6 = np.interp(mean6, xs6, ys6)\n",
    "\n",
    "axes[0].vlines(mean1, 0, height1, color='red')\n",
    "axes[0].vlines(mean2, 0, height2, color='blue', ls=':')\n",
    "axes[1].vlines(mean3, 0, height3, color='red')\n",
    "axes[1].vlines(mean4, 0, height4, color='blue', ls=':')\n",
    "axes[2].vlines(mean5, 0, height5, color='red')\n",
    "axes[2].vlines(mean6, 0, height6, color='blue', ls=':')\n",
    "\n",
    "# Get the medians and put them im the figures\n",
    "axes[0].set_title(\"Median original=%.2f\\nMedian Tesseract=%.2f\" % (mean1, mean2), fontsize=10)\n",
    "axes[1].set_title(\"Median original=%.2f\\nMedian Tesseract=%.2f\" % (mean3, mean4), fontsize=10)\n",
    "axes[2].set_title(\"Median original=%.2f\\nMedian Tesseract=%.2f\" % (mean5, mean6), fontsize=10)\n",
    "\n",
    "plt.tight_layout()\n",
    "plt.show()\n"
   ]
  },
  {
   "cell_type": "code",
   "execution_count": 32,
   "id": "cf141b11",
   "metadata": {},
   "outputs": [
    {
     "name": "stdout",
     "output_type": "stream",
     "text": [
      "For pdftotext if we sum the length of all bad segments we get 403078 bad tokens\n",
      "For Tesseract if we sum the length of all bad segments we get 228727 bad tokens\n"
     ]
    }
   ],
   "source": [
    "print(\"For pdftotext if we sum the length of all bad segments we get %d bad tokens\" % sum(all_seg_lengths_pdf))\n",
    "print(\"For Tesseract if we sum the length of all bad segments we get %d bad tokens\" % sum(all_seg_lengths_tes))"
   ]
  },
  {
   "cell_type": "markdown",
   "id": "e296109a",
   "metadata": {},
   "source": [
    "## Comparing Bad Segments\n",
    "\n",
    "Now that we have the bad segments for all the pages for both the original and the output from Tesseract, we can compare those bad segments and see where the two versions are different. For this we have to be a bit careful, as there is not always a 1 to 1 mapping from one version to the other, so we will only select the pages that have the same amount of tokens for both version"
   ]
  },
  {
   "cell_type": "code",
   "execution_count": 33,
   "id": "1bc411be",
   "metadata": {},
   "outputs": [],
   "source": [
    "def get_overlap_info(list_of_indices_1, list_of_indices_2):\n",
    "    \"\"\"\n",
    "    Function to calculate the overlap between two sets of annotations for bad segments,\n",
    "    where both inputs should be lists with the starting indices of bad segments.\n",
    "    :param list_of_indices_1: list of indices for bad segments for system 1\n",
    "    :param list_of_indices_2: list of indices for bad segments for system 2\n",
    "    :returns: three output statistics for the overlap between segments\n",
    "        - no_overlap: percentage of clusters that have no overlap between system 1 and 2\n",
    "        - some_overlap: percentage of clusters where there is some overlap between system 1 and 2\n",
    "        but one is not a subset of the other.\n",
    "        - subsegment: percentage of clusters where segment 2 is a subset of segment 1.\n",
    "    \n",
    "    \"\"\"\n",
    "    # let's get the average overlap as IoU\n",
    "    no_overlap = 0\n",
    "    some_overlap = 0\n",
    "    subsegment = 0\n",
    "    sets_1 = [set(range(start, stop)) for start, stop in list_of_indices_1]\n",
    "    sets_2 = [set(range(start, stop)) for start, stop in list_of_indices_2]\n",
    "\n",
    "    for set_1 in sets_1:\n",
    "        if not any(set_1 & set_2 for set_2 in sets_2):\n",
    "            no_overlap+=1\n",
    "        elif any((set_1 & set_2 == set_1) for set_2 in sets_2):\n",
    "            subsegment+=1\n",
    "        else:\n",
    "            for set_2 in sets_2:\n",
    "                iou = len(set_1 & set_2) / len(set_1 | set_2)\n",
    "                if iou > 0.5:\n",
    "                    some_overlap+=1\n",
    "                    \n",
    "    return no_overlap, some_overlap, subsegment"
   ]
  },
  {
   "cell_type": "code",
   "execution_count": 34,
   "id": "b091c727",
   "metadata": {},
   "outputs": [],
   "source": [
    "matching_pages = tesseract_results['Num Tokens'] == pdftotext_results['Num Tokens']"
   ]
  },
  {
   "cell_type": "code",
   "execution_count": 35,
   "id": "dfcb47ea",
   "metadata": {},
   "outputs": [
    {
     "name": "stdout",
     "output_type": "stream",
     "text": [
      "For tesseract, there is no overlap in 28.18 percent of the cases\n",
      "For tesseract,  in 69.24 percent of the cases the prediction is a subset of pdftotext\n"
     ]
    }
   ],
   "source": [
    "total_no_overlap = 0\n",
    "total_iou_vals = 0\n",
    "total_subsegment = 0\n",
    "\n",
    "for i in np.nonzero(np.array(matching_pages))[0]:\n",
    "    no_overlap, iou_vals, subsegment = get_overlap_info(tesseract_indices[i], pdftotext_indices[i])\n",
    "    total_no_overlap+=no_overlap\n",
    "    total_iou_vals+=iou_vals\n",
    "    total_subsegment+=subsegment\n",
    "    \n",
    "total_tesseract_segments = tesseract_results['Number of bad Segments'][matching_pages].sum()\n",
    "\n",
    "print(\"For tesseract, there is no overlap in %.2f percent of the cases\" % ((total_no_overlap/total_tesseract_segments)*100))\n",
    "print(\"For tesseract,  in %.2f percent of the cases the prediction is a subset of pdftotext\" % ((total_subsegment/total_tesseract_segments)*100))"
   ]
  },
  {
   "cell_type": "markdown",
   "id": "94849bbb",
   "metadata": {},
   "source": [
    "## Comparing across ministries\n",
    "\n",
    "Apart from comparing the statistics in general, we also compare the differences between the two versionss for the ministries seperately, to gain more insights into the differences between the two versions, and the potential impact of switching to Tesseract."
   ]
  },
  {
   "cell_type": "code",
   "execution_count": 36,
   "id": "9b4c4e73",
   "metadata": {},
   "outputs": [],
   "source": [
    "pdftotext_results.publisher.fillna('', inplace=True)\n",
    "tesseract_results.publisher.fillna('', inplace=True)"
   ]
  },
  {
   "cell_type": "code",
   "execution_count": 37,
   "id": "377e8791",
   "metadata": {},
   "outputs": [],
   "source": [
    "# Create a plot for the different ministeries\n",
    "pdftotext_results_ministeries = pdftotext_results[pdftotext_results.publisher.str.startswith('mnre')]\n",
    "tesseract_results_ministeries = tesseract_results[tesseract_results.publisher.str.startswith('mnre')]"
   ]
  },
  {
   "cell_type": "code",
   "execution_count": 38,
   "id": "c03fded2",
   "metadata": {},
   "outputs": [],
   "source": [
    "translation_dict = {\n",
    " 'mnre1109': 'OCW',\n",
    " 'mnre1010': 'AZ',\n",
    " 'mnre1013': 'BZ',\n",
    " 'mnre1018': 'DEF',\n",
    " 'mnre1025': 'VWS',\n",
    " 'mnre1034': 'BZK',\n",
    " 'mnre1045': 'EZK',\n",
    " 'mnre1058': 'J & V',\n",
    " 'mnre1073': 'SZW',\n",
    " 'mnre1090': 'FIN',\n",
    " 'mnre1130': 'I & W',\n",
    " 'mnre1153': 'LNV'\n",
    "}"
   ]
  },
  {
   "cell_type": "code",
   "execution_count": 39,
   "id": "2ee19ed8",
   "metadata": {},
   "outputs": [
    {
     "data": {
      "image/png": "[encoded data removed]",
      "text/plain": [
       "<Figure size 432x288 with 1 Axes>"
      ]
     },
     "metadata": {
      "needs_background": "light"
     },
     "output_type": "display_data"
    }
   ],
   "source": [
    "# maak een plotje waarbij we alleen dat laatste figuur laten zien.\n",
    "df3 = pd.DataFrame({'original': pdftotext_results_ministeries.groupby('publisher')['Mean Bad Segment Length'].mean(),\n",
    "      'tesseract': tesseract_results_ministeries.groupby('publisher')['Mean Bad Segment Length'].mean()}).sort_values(by='original', ascending=False)\n",
    "df3.T.rename(translation_dict, axis=1).T.plot.barh()\n",
    "plt.xlabel('bad segment length', fontsize=17)\n",
    "plt.show()"
   ]
  },
  {
   "cell_type": "markdown",
   "id": "dcbb42fd",
   "metadata": {},
   "source": [
    "This plot is very interesting, as it shows as that not only Tesseract has  much shorter lenghts of bad segments, the variance between the different ministries is also a lot lower. "
   ]
  },
  {
   "cell_type": "markdown",
   "id": "b4427d24",
   "metadata": {},
   "source": [
    "As we can see from both the plots and the describe tables above, the Tesseract method has higher quality OCR compared to pdftotext using this bad segment detection method. It also shows that on average (and definitely for Tesseract), the bad segment length is only a few words, which would make correction hopefully easier. However, it might also mean that when using chatgpt we might want to give the model some surrounding text to help, otherwise it would just be correction single wrong words without a clue of the context, causing it to make assumptions on general language statistics that might not hold for this very specific usecase."
   ]
  },
  {
   "cell_type": "markdown",
   "id": "77f51816",
   "metadata": {},
   "source": [
    "<h1><a id=\"chatgpt\">ChatGPT</a></h1>\n"
   ]
  },
  {
   "cell_type": "markdown",
   "id": "aa77657f",
   "metadata": {},
   "source": [
    "Now that we have a method of detecting bad segments, let's try correcting them with chatGPT. We could also use the Davinci model, which is specifically trained for this kind of single turn tasks, performance should be about the same, but Davinci is more expensive to run.\n",
    "\n",
    "For this part I am interested in several types of mistakes: streams of concatenated words, short segments with minor mistakes and segments that are complete gibberish. Because especially for Tesseract the mean bad segment length is quite short (just a few tokens), I will mix up the long and short sentences so that we get a nice estimate on the performance of the correction step. Because some of the mistakes are irrecoverable, we try to combat this by adding to the prompt."
   ]
  },
  {
   "cell_type": "code",
   "execution_count": 42,
   "id": "d0a01a3b",
   "metadata": {},
   "outputs": [],
   "source": [
    "# set up the API, please replace this key below with your personal key\n",
    "import os\n",
    "import openai\n",
    "\n",
    "openai.api_key = \"INSERT YOUR TOKEN HERE\"\n",
    "\n",
    "# small function to get the output of the ChatGPT model\n",
    "def get_response(prompt: str, model) -> str:\n",
    "    messages = [{\"role\": \"user\", \"content\": prompt}]\n",
    "    response = openai.ChatCompletion.create(\n",
    "        model=model,\n",
    "        messages=messages, temperature=0.0)\n",
    "    return response.choices[0].message[\"content\"]"
   ]
  },
  {
   "cell_type": "markdown",
   "id": "59322ebf",
   "metadata": {},
   "source": [
    "For the correction task a relative short precise prompt works well, I have modified it slightly so that it removes any markup (the triple backticks) that were in the original sentence. Below is a small summary of my iterative prompt design, and why I made certain adjustements to the prompt.\n",
    "\n",
    "We also write a short wrapper function to be able to just insert our sentences. Let's set up the boilerplate code and show an example."
   ]
  },
  {
   "cell_type": "markdown",
   "id": "9172fd0d",
   "metadata": {},
   "source": [
    "### Prompt Design for ChatGPT"
   ]
  },
  {
   "cell_type": "code",
   "execution_count": 43,
   "id": "3ffde9d1",
   "metadata": {},
   "outputs": [],
   "source": [
    "correction_prompt =\"\"\"\n",
    "Correct the spelling mistakes in the following Dutch text delimited by triple backticks and remove the triple backtiks afterwards.\n",
    "Leave the correct words untouched.\n",
    "```%s```\n",
    "\n",
    "\"\"\"\n",
    "# small lambda function to easily change the input sentences with the same prompt\n",
    "prompt_with_sentence = lambda sentence: correction_prompt % sentence"
   ]
  },
  {
   "cell_type": "markdown",
   "id": "d35e0ea2",
   "metadata": {},
   "source": [
    "Here we write a function that extracts the text from the bad segments in pages, runs ChatGPT and saves the result. We then do the same calculations as we did before, run our bad segment detector and seeing how well this works.\n",
    "We end with a small manual evaluation of the corrected sentences as well."
   ]
  },
  {
   "cell_type": "code",
   "execution_count": 44,
   "id": "a3596e4d",
   "metadata": {},
   "outputs": [],
   "source": [
    "bad_segment_detector = BadSegmentDetector()\n",
    "def correct_text_with_chatgpt(input_document: str, context_size: int = 5) -> str:\n",
    "    \"\"\"\n",
    "    This function implements a document correction method using chatGPT, where we take as input\n",
    "    a page, detect bad segments, send these to chatgpt for correction, and place them back into the original text.\n",
    "    :param input_document: string that contains the input text with errors that we want to correct.\n",
    "    :param context_size: int specifying the number of words that we want to include as context for the \n",
    "    model to help it in correctiong shorter segments.\n",
    "    \n",
    "    \"\"\"\n",
    "    # The first step is to detect bad segments\n",
    "    detected_bad_segments = bad_segment_detector.detect_bad_segments(input_document, clean_input=False)\n",
    "    # Now we get the bad segments from the text, including a little bit of context in the response.\n",
    "    tokens = preprocess(input_document)\n",
    "    bad_indices = []\n",
    "    if detected_bad_segments[0]:\n",
    "        bad_seg_idx = [0]\n",
    "    else:\n",
    "        # no bad segments\n",
    "        bad_seg_idx = []\n",
    "    \n",
    "    # get a list of lists with the start and end indices in it\n",
    "    for i in range(1, len(detected_bad_segments)):\n",
    "        if [detected_bad_segments[i-1], detected_bad_segments[i]] == [False, True]:\n",
    "            bad_seg_idx.append(i)\n",
    "        elif [detected_bad_segments[i-1], detected_bad_segments[i]] == [True, False]:\n",
    "            bad_seg_idx.append(i-1)\n",
    "            bad_indices.append(bad_seg_idx)\n",
    "            bad_seg_idx = []\n",
    "    # clean up\n",
    "    if len(bad_seg_idx):\n",
    "        bad_seg_idx.append(len(detected_bad_segments)-1)\n",
    "    \n",
    "    if all(detected_bad_segments):\n",
    "        bad_indices = [[0, len(tokens)-1]]\n",
    "        \n",
    "    segment_pairs = []\n",
    "    corrected_segments = {}\n",
    "    # Now we can feed add some context and feed this to chat GPT\n",
    "    for start_idx, end_idx in bad_indices:\n",
    "        start_with_context = start_idx-context_size if start_idx-context_size >=0 else start_idx\n",
    "        end_with_context = end_idx+1+context_size if end_idx+1+context_size < len(tokens) else len(tokens)\n",
    "        input_text = \" \".join(tokens[start_with_context:end_with_context])\n",
    "        corrected_text = get_response(prompt_with_sentence(input_text), model=\"gpt-3.5-turbo-0301\")\n",
    "        corrected_text = \" \".join(corrected_text.split()[(start_idx-start_with_context): (start_idx-start_with_context)+(end_idx-start_idx)+1])\n",
    "        segment_pairs.append([\" \".join(tokens[start_idx:end_idx+1]), corrected_text])\n",
    "        corrected_segments[(start_idx, end_idx)] = corrected_text\n",
    "\n",
    "    # We have to be careful when placing things back in the original texts because we are working with lists of tokens\n",
    "    replaced_text = []\n",
    "    bad_segment_keys = list(corrected_segments.keys())\n",
    "    for i in range(len(tokens)):\n",
    "        in_segment = False\n",
    "        for bad_seg_key in bad_segment_keys:\n",
    "            if i == bad_seg_key[0]:\n",
    "                in_segment=True\n",
    "                replaced_text.append(corrected_segments[bad_seg_key])\n",
    "            elif i in range(bad_seg_key[0], bad_seg_key[1]+1):\n",
    "                in_segment = True\n",
    "        if not in_segment:\n",
    "            replaced_text.append(tokens[i])\n",
    "    \n",
    "    return{'text': \" \".join(replaced_text), 'pairs': segment_pairs}\n",
    "        \n"
   ]
  },
  {
   "cell_type": "markdown",
   "id": "fbcb2c1d",
   "metadata": {},
   "source": [
    "Let's try and example of a very bad segment from the dataset and see what ChatGPT can do with it."
   ]
  },
  {
   "cell_type": "code",
   "execution_count": 45,
   "id": "7d15195f",
   "metadata": {},
   "outputs": [
    {
     "ename": "AuthenticationError",
     "evalue": "<empty message>",
     "output_type": "error",
     "traceback": [
      "\u001b[0;31m---------------------------------------------------------------------------\u001b[0m",
      "\u001b[0;31mAuthenticationError\u001b[0m                       Traceback (most recent call last)",
      "Input \u001b[0;32mIn [45]\u001b[0m, in \u001b[0;36m<cell line: 11>\u001b[0;34m()\u001b[0m\n\u001b[1;32m      4\u001b[0m correction_prompt_original \u001b[38;5;241m=\u001b[39m\u001b[38;5;124m\"\"\"\u001b[39m\n\u001b[1;32m      5\u001b[0m \u001b[38;5;124mCorrect the following Dutch text containing spelling mistakes delimited by triple backticks and remove the triple backticks afterwards.\u001b[39m\n\u001b[1;32m      6\u001b[0m \u001b[38;5;124mLeave the correct words untouched. \u001b[39m\u001b[38;5;124m'\u001b[39m\n\u001b[1;32m      7\u001b[0m \u001b[38;5;124m```\u001b[39m\u001b[38;5;124m{\u001b[39m\u001b[38;5;132;01m%s\u001b[39;00m\u001b[38;5;124m}```\u001b[39m\n\u001b[1;32m      8\u001b[0m \n\u001b[1;32m      9\u001b[0m \u001b[38;5;124m\"\"\"\u001b[39m\n\u001b[1;32m     10\u001b[0m prompt_with_sentence \u001b[38;5;241m=\u001b[39m \u001b[38;5;28;01mlambda\u001b[39;00m sentence: correction_prompt_original \u001b[38;5;241m%\u001b[39m sentence\n\u001b[0;32m---> 11\u001b[0m corrected_sentence_original \u001b[38;5;241m=\u001b[39m \u001b[43mget_response\u001b[49m\u001b[43m(\u001b[49m\u001b[43mprompt_with_sentence\u001b[49m\u001b[43m(\u001b[49m\u001b[43mvery_bad_segment\u001b[49m\u001b[43m)\u001b[49m\u001b[43m,\u001b[49m\u001b[43m \u001b[49m\u001b[43mmodel\u001b[49m\u001b[38;5;241;43m=\u001b[39;49m\u001b[38;5;124;43m\"\u001b[39;49m\u001b[38;5;124;43mgpt-3.5-turbo-0301\u001b[39;49m\u001b[38;5;124;43m\"\u001b[39;49m\u001b[43m)\u001b[49m\n",
      "Input \u001b[0;32mIn [42]\u001b[0m, in \u001b[0;36mget_response\u001b[0;34m(prompt, model)\u001b[0m\n\u001b[1;32m      8\u001b[0m \u001b[38;5;28;01mdef\u001b[39;00m \u001b[38;5;21mget_response\u001b[39m(prompt: \u001b[38;5;28mstr\u001b[39m, model) \u001b[38;5;241m-\u001b[39m\u001b[38;5;241m>\u001b[39m \u001b[38;5;28mstr\u001b[39m:\n\u001b[1;32m      9\u001b[0m     messages \u001b[38;5;241m=\u001b[39m [{\u001b[38;5;124m\"\u001b[39m\u001b[38;5;124mrole\u001b[39m\u001b[38;5;124m\"\u001b[39m: \u001b[38;5;124m\"\u001b[39m\u001b[38;5;124muser\u001b[39m\u001b[38;5;124m\"\u001b[39m, \u001b[38;5;124m\"\u001b[39m\u001b[38;5;124mcontent\u001b[39m\u001b[38;5;124m\"\u001b[39m: prompt}]\n\u001b[0;32m---> 10\u001b[0m     response \u001b[38;5;241m=\u001b[39m \u001b[43mopenai\u001b[49m\u001b[38;5;241;43m.\u001b[39;49m\u001b[43mChatCompletion\u001b[49m\u001b[38;5;241;43m.\u001b[39;49m\u001b[43mcreate\u001b[49m\u001b[43m(\u001b[49m\n\u001b[1;32m     11\u001b[0m \u001b[43m        \u001b[49m\u001b[43mmodel\u001b[49m\u001b[38;5;241;43m=\u001b[39;49m\u001b[43mmodel\u001b[49m\u001b[43m,\u001b[49m\n\u001b[1;32m     12\u001b[0m \u001b[43m        \u001b[49m\u001b[43mmessages\u001b[49m\u001b[38;5;241;43m=\u001b[39;49m\u001b[43mmessages\u001b[49m\u001b[43m,\u001b[49m\u001b[43m \u001b[49m\u001b[43mtemperature\u001b[49m\u001b[38;5;241;43m=\u001b[39;49m\u001b[38;5;241;43m0.0\u001b[39;49m\u001b[43m)\u001b[49m\n\u001b[1;32m     13\u001b[0m     \u001b[38;5;28;01mreturn\u001b[39;00m response\u001b[38;5;241m.\u001b[39mchoices[\u001b[38;5;241m0\u001b[39m]\u001b[38;5;241m.\u001b[39mmessage[\u001b[38;5;124m\"\u001b[39m\u001b[38;5;124mcontent\u001b[39m\u001b[38;5;124m\"\u001b[39m]\n",
      "File \u001b[0;32m~/anaconda3/envs/accessibilifier_env/lib/python3.9/site-packages/openai/api_resources/chat_completion.py:25\u001b[0m, in \u001b[0;36mChatCompletion.create\u001b[0;34m(cls, *args, **kwargs)\u001b[0m\n\u001b[1;32m     23\u001b[0m \u001b[38;5;28;01mwhile\u001b[39;00m \u001b[38;5;28;01mTrue\u001b[39;00m:\n\u001b[1;32m     24\u001b[0m     \u001b[38;5;28;01mtry\u001b[39;00m:\n\u001b[0;32m---> 25\u001b[0m         \u001b[38;5;28;01mreturn\u001b[39;00m \u001b[38;5;28;43msuper\u001b[39;49m\u001b[43m(\u001b[49m\u001b[43m)\u001b[49m\u001b[38;5;241;43m.\u001b[39;49m\u001b[43mcreate\u001b[49m\u001b[43m(\u001b[49m\u001b[38;5;241;43m*\u001b[39;49m\u001b[43margs\u001b[49m\u001b[43m,\u001b[49m\u001b[43m \u001b[49m\u001b[38;5;241;43m*\u001b[39;49m\u001b[38;5;241;43m*\u001b[39;49m\u001b[43mkwargs\u001b[49m\u001b[43m)\u001b[49m\n\u001b[1;32m     26\u001b[0m     \u001b[38;5;28;01mexcept\u001b[39;00m TryAgain \u001b[38;5;28;01mas\u001b[39;00m e:\n\u001b[1;32m     27\u001b[0m         \u001b[38;5;28;01mif\u001b[39;00m timeout \u001b[38;5;129;01mis\u001b[39;00m \u001b[38;5;129;01mnot\u001b[39;00m \u001b[38;5;28;01mNone\u001b[39;00m \u001b[38;5;129;01mand\u001b[39;00m time\u001b[38;5;241m.\u001b[39mtime() \u001b[38;5;241m>\u001b[39m start \u001b[38;5;241m+\u001b[39m timeout:\n",
      "File \u001b[0;32m~/anaconda3/envs/accessibilifier_env/lib/python3.9/site-packages/openai/api_resources/abstract/engine_api_resource.py:153\u001b[0m, in \u001b[0;36mEngineAPIResource.create\u001b[0;34m(cls, api_key, api_base, api_type, request_id, api_version, organization, **params)\u001b[0m\n\u001b[1;32m    127\u001b[0m \u001b[38;5;129m@classmethod\u001b[39m\n\u001b[1;32m    128\u001b[0m \u001b[38;5;28;01mdef\u001b[39;00m \u001b[38;5;21mcreate\u001b[39m(\n\u001b[1;32m    129\u001b[0m     \u001b[38;5;28mcls\u001b[39m,\n\u001b[0;32m   (...)\u001b[0m\n\u001b[1;32m    136\u001b[0m     \u001b[38;5;241m*\u001b[39m\u001b[38;5;241m*\u001b[39mparams,\n\u001b[1;32m    137\u001b[0m ):\n\u001b[1;32m    138\u001b[0m     (\n\u001b[1;32m    139\u001b[0m         deployment_id,\n\u001b[1;32m    140\u001b[0m         engine,\n\u001b[0;32m   (...)\u001b[0m\n\u001b[1;32m    150\u001b[0m         api_key, api_base, api_type, api_version, organization, \u001b[38;5;241m*\u001b[39m\u001b[38;5;241m*\u001b[39mparams\n\u001b[1;32m    151\u001b[0m     )\n\u001b[0;32m--> 153\u001b[0m     response, _, api_key \u001b[38;5;241m=\u001b[39m \u001b[43mrequestor\u001b[49m\u001b[38;5;241;43m.\u001b[39;49m\u001b[43mrequest\u001b[49m\u001b[43m(\u001b[49m\n\u001b[1;32m    154\u001b[0m \u001b[43m        \u001b[49m\u001b[38;5;124;43m\"\u001b[39;49m\u001b[38;5;124;43mpost\u001b[39;49m\u001b[38;5;124;43m\"\u001b[39;49m\u001b[43m,\u001b[49m\n\u001b[1;32m    155\u001b[0m \u001b[43m        \u001b[49m\u001b[43murl\u001b[49m\u001b[43m,\u001b[49m\n\u001b[1;32m    156\u001b[0m \u001b[43m        \u001b[49m\u001b[43mparams\u001b[49m\u001b[38;5;241;43m=\u001b[39;49m\u001b[43mparams\u001b[49m\u001b[43m,\u001b[49m\n\u001b[1;32m    157\u001b[0m \u001b[43m        \u001b[49m\u001b[43mheaders\u001b[49m\u001b[38;5;241;43m=\u001b[39;49m\u001b[43mheaders\u001b[49m\u001b[43m,\u001b[49m\n\u001b[1;32m    158\u001b[0m \u001b[43m        \u001b[49m\u001b[43mstream\u001b[49m\u001b[38;5;241;43m=\u001b[39;49m\u001b[43mstream\u001b[49m\u001b[43m,\u001b[49m\n\u001b[1;32m    159\u001b[0m \u001b[43m        \u001b[49m\u001b[43mrequest_id\u001b[49m\u001b[38;5;241;43m=\u001b[39;49m\u001b[43mrequest_id\u001b[49m\u001b[43m,\u001b[49m\n\u001b[1;32m    160\u001b[0m \u001b[43m        \u001b[49m\u001b[43mrequest_timeout\u001b[49m\u001b[38;5;241;43m=\u001b[39;49m\u001b[43mrequest_timeout\u001b[49m\u001b[43m,\u001b[49m\n\u001b[1;32m    161\u001b[0m \u001b[43m    \u001b[49m\u001b[43m)\u001b[49m\n\u001b[1;32m    163\u001b[0m     \u001b[38;5;28;01mif\u001b[39;00m stream:\n\u001b[1;32m    164\u001b[0m         \u001b[38;5;66;03m# must be an iterator\u001b[39;00m\n\u001b[1;32m    165\u001b[0m         \u001b[38;5;28;01massert\u001b[39;00m \u001b[38;5;129;01mnot\u001b[39;00m \u001b[38;5;28misinstance\u001b[39m(response, OpenAIResponse)\n",
      "File \u001b[0;32m~/anaconda3/envs/accessibilifier_env/lib/python3.9/site-packages/openai/api_requestor.py:298\u001b[0m, in \u001b[0;36mAPIRequestor.request\u001b[0;34m(self, method, url, params, headers, files, stream, request_id, request_timeout)\u001b[0m\n\u001b[1;32m    277\u001b[0m \u001b[38;5;28;01mdef\u001b[39;00m \u001b[38;5;21mrequest\u001b[39m(\n\u001b[1;32m    278\u001b[0m     \u001b[38;5;28mself\u001b[39m,\n\u001b[1;32m    279\u001b[0m     method,\n\u001b[0;32m   (...)\u001b[0m\n\u001b[1;32m    286\u001b[0m     request_timeout: Optional[Union[\u001b[38;5;28mfloat\u001b[39m, Tuple[\u001b[38;5;28mfloat\u001b[39m, \u001b[38;5;28mfloat\u001b[39m]]] \u001b[38;5;241m=\u001b[39m \u001b[38;5;28;01mNone\u001b[39;00m,\n\u001b[1;32m    287\u001b[0m ) \u001b[38;5;241m-\u001b[39m\u001b[38;5;241m>\u001b[39m Tuple[Union[OpenAIResponse, Iterator[OpenAIResponse]], \u001b[38;5;28mbool\u001b[39m, \u001b[38;5;28mstr\u001b[39m]:\n\u001b[1;32m    288\u001b[0m     result \u001b[38;5;241m=\u001b[39m \u001b[38;5;28mself\u001b[39m\u001b[38;5;241m.\u001b[39mrequest_raw(\n\u001b[1;32m    289\u001b[0m         method\u001b[38;5;241m.\u001b[39mlower(),\n\u001b[1;32m    290\u001b[0m         url,\n\u001b[0;32m   (...)\u001b[0m\n\u001b[1;32m    296\u001b[0m         request_timeout\u001b[38;5;241m=\u001b[39mrequest_timeout,\n\u001b[1;32m    297\u001b[0m     )\n\u001b[0;32m--> 298\u001b[0m     resp, got_stream \u001b[38;5;241m=\u001b[39m \u001b[38;5;28;43mself\u001b[39;49m\u001b[38;5;241;43m.\u001b[39;49m\u001b[43m_interpret_response\u001b[49m\u001b[43m(\u001b[49m\u001b[43mresult\u001b[49m\u001b[43m,\u001b[49m\u001b[43m \u001b[49m\u001b[43mstream\u001b[49m\u001b[43m)\u001b[49m\n\u001b[1;32m    299\u001b[0m     \u001b[38;5;28;01mreturn\u001b[39;00m resp, got_stream, \u001b[38;5;28mself\u001b[39m\u001b[38;5;241m.\u001b[39mapi_key\n",
      "File \u001b[0;32m~/anaconda3/envs/accessibilifier_env/lib/python3.9/site-packages/openai/api_requestor.py:700\u001b[0m, in \u001b[0;36mAPIRequestor._interpret_response\u001b[0;34m(self, result, stream)\u001b[0m\n\u001b[1;32m    692\u001b[0m     \u001b[38;5;28;01mreturn\u001b[39;00m (\n\u001b[1;32m    693\u001b[0m         \u001b[38;5;28mself\u001b[39m\u001b[38;5;241m.\u001b[39m_interpret_response_line(\n\u001b[1;32m    694\u001b[0m             line, result\u001b[38;5;241m.\u001b[39mstatus_code, result\u001b[38;5;241m.\u001b[39mheaders, stream\u001b[38;5;241m=\u001b[39m\u001b[38;5;28;01mTrue\u001b[39;00m\n\u001b[1;32m    695\u001b[0m         )\n\u001b[1;32m    696\u001b[0m         \u001b[38;5;28;01mfor\u001b[39;00m line \u001b[38;5;129;01min\u001b[39;00m parse_stream(result\u001b[38;5;241m.\u001b[39miter_lines())\n\u001b[1;32m    697\u001b[0m     ), \u001b[38;5;28;01mTrue\u001b[39;00m\n\u001b[1;32m    698\u001b[0m \u001b[38;5;28;01melse\u001b[39;00m:\n\u001b[1;32m    699\u001b[0m     \u001b[38;5;28;01mreturn\u001b[39;00m (\n\u001b[0;32m--> 700\u001b[0m         \u001b[38;5;28;43mself\u001b[39;49m\u001b[38;5;241;43m.\u001b[39;49m\u001b[43m_interpret_response_line\u001b[49m\u001b[43m(\u001b[49m\n\u001b[1;32m    701\u001b[0m \u001b[43m            \u001b[49m\u001b[43mresult\u001b[49m\u001b[38;5;241;43m.\u001b[39;49m\u001b[43mcontent\u001b[49m\u001b[38;5;241;43m.\u001b[39;49m\u001b[43mdecode\u001b[49m\u001b[43m(\u001b[49m\u001b[38;5;124;43m\"\u001b[39;49m\u001b[38;5;124;43mutf-8\u001b[39;49m\u001b[38;5;124;43m\"\u001b[39;49m\u001b[43m)\u001b[49m\u001b[43m,\u001b[49m\n\u001b[1;32m    702\u001b[0m \u001b[43m            \u001b[49m\u001b[43mresult\u001b[49m\u001b[38;5;241;43m.\u001b[39;49m\u001b[43mstatus_code\u001b[49m\u001b[43m,\u001b[49m\n\u001b[1;32m    703\u001b[0m \u001b[43m            \u001b[49m\u001b[43mresult\u001b[49m\u001b[38;5;241;43m.\u001b[39;49m\u001b[43mheaders\u001b[49m\u001b[43m,\u001b[49m\n\u001b[1;32m    704\u001b[0m \u001b[43m            \u001b[49m\u001b[43mstream\u001b[49m\u001b[38;5;241;43m=\u001b[39;49m\u001b[38;5;28;43;01mFalse\u001b[39;49;00m\u001b[43m,\u001b[49m\n\u001b[1;32m    705\u001b[0m \u001b[43m        \u001b[49m\u001b[43m)\u001b[49m,\n\u001b[1;32m    706\u001b[0m         \u001b[38;5;28;01mFalse\u001b[39;00m,\n\u001b[1;32m    707\u001b[0m     )\n",
      "File \u001b[0;32m~/anaconda3/envs/accessibilifier_env/lib/python3.9/site-packages/openai/api_requestor.py:763\u001b[0m, in \u001b[0;36mAPIRequestor._interpret_response_line\u001b[0;34m(self, rbody, rcode, rheaders, stream)\u001b[0m\n\u001b[1;32m    761\u001b[0m stream_error \u001b[38;5;241m=\u001b[39m stream \u001b[38;5;129;01mand\u001b[39;00m \u001b[38;5;124m\"\u001b[39m\u001b[38;5;124merror\u001b[39m\u001b[38;5;124m\"\u001b[39m \u001b[38;5;129;01min\u001b[39;00m resp\u001b[38;5;241m.\u001b[39mdata\n\u001b[1;32m    762\u001b[0m \u001b[38;5;28;01mif\u001b[39;00m stream_error \u001b[38;5;129;01mor\u001b[39;00m \u001b[38;5;129;01mnot\u001b[39;00m \u001b[38;5;241m200\u001b[39m \u001b[38;5;241m<\u001b[39m\u001b[38;5;241m=\u001b[39m rcode \u001b[38;5;241m<\u001b[39m \u001b[38;5;241m300\u001b[39m:\n\u001b[0;32m--> 763\u001b[0m     \u001b[38;5;28;01mraise\u001b[39;00m \u001b[38;5;28mself\u001b[39m\u001b[38;5;241m.\u001b[39mhandle_error_response(\n\u001b[1;32m    764\u001b[0m         rbody, rcode, resp\u001b[38;5;241m.\u001b[39mdata, rheaders, stream_error\u001b[38;5;241m=\u001b[39mstream_error\n\u001b[1;32m    765\u001b[0m     )\n\u001b[1;32m    766\u001b[0m \u001b[38;5;28;01mreturn\u001b[39;00m resp\n",
      "\u001b[0;31mAuthenticationError\u001b[0m: <empty message>"
     ]
    }
   ],
   "source": [
    "very_bad_segment = \"\"\"\n",
    " auo asewordig jesnyjng zo uy aul asebuny jo asoysiy y aaiuns of naa ul btuwioy uea jnapessegwuy eyuauy yd uea apessequy juauewsag assee3uoh uauewusg asseebu0h japsa1ds jba yooiaim uarsaprz ngonaeg yawyy sapwaig asyiny voueqi 9tozse uoueqn 9t02se uoueadn 9t0zs uovegr 9t02se puepapan puejapin 9t0es6t puejsapan 9tozdet puejsyng 9tijde puersying 9toleot pueisiing 9tote9t ¢ stozsot pubhspan otozest puehapin 9tozsot puepeppenn stozsb puejjapan sp purlbpin 9tozb ueiiked 9tozsot puepsapan 9t0z0l puepapan 9tozsot puejsapan 9tozvsz enawy jtozvzz puejapan stozsot ppuepapan stotsot puejlapann 9tozsot puejsapan 9tozviz puepapann 9tozpbz puejsapan 9t0tv8t afanl 9totete pywouy 9tozete eyuawiy 9t02ete puepapay puepapan ppuejsapan otozest puelapan 9toz epawy 9toze puelipin otoze puchopsn otoz pueejjapann 9tozb ajsaunl otozez puclopon otozlt afsesuoy 9to72t afue8uoy ppueapan 9toz puejsapan 9tozzzz,\n",
    "\"\"\"\n",
    "correction_prompt_original =\"\"\"\n",
    "Correct the following Dutch text containing spelling mistakes delimited by triple backticks and remove the triple backticks afterwards.\n",
    "Leave the correct words untouched. '\n",
    "```{%s}```\n",
    "\n",
    "\"\"\"\n",
    "prompt_with_sentence = lambda sentence: correction_prompt_original % sentence\n",
    "corrected_sentence_original = get_response(prompt_with_sentence(very_bad_segment), model=\"gpt-3.5-turbo-0301\")"
   ]
  },
  {
   "cell_type": "code",
   "execution_count": 91,
   "id": "fa41be2f",
   "metadata": {},
   "outputs": [
    {
     "data": {
      "text/plain": [
       "'\\n auo asewordig jesnyjng zo uy aul asebuny jo asoysiy y aaiuns of naa ul btuwioy uea jnapessegwuy eyuauy yd uea apessequy juauewsag assee3uoh uauewusg asseebu0h japsa1ds jba yooiaim uarsaprz ngonaeg yawyy sapwaig asyiny voueqi 9tozse uoueqn 9t02se uoueadn 9t0zs uovegr 9t02se puepapan puejapin 9t0es6t puejsapan 9tozdet puejsyng 9tijde puersying 9toleot pueisiing 9tote9t ¢ stozsot pubhspan otozest puehapin 9tozsot puepeppenn stozsb puejjapan sp purlbpin 9tozb ueiiked 9tozsot puepsapan 9t0z0l puepapan 9tozsot puejsapan 9tozvsz enawy jtozvzz puejapan stozsot ppuepapan stotsot puejlapann 9tozsot puejsapan 9tozviz puepapann 9tozpbz puejsapan 9t0tv8t afanl 9totete pywouy 9tozete eyuawiy 9t02ete puepapay puepapan ppuejsapan otozest puelapan 9toz epawy 9toze puelipin otoze puchopsn otoz pueejjapann 9tozb ajsaunl otozez puclopon otozlt afsesuoy 9to72t afue8uoy ppueapan 9toz puejsapan 9tozzzz,\\n'"
      ]
     },
     "execution_count": 91,
     "metadata": {},
     "output_type": "execute_result"
    }
   ],
   "source": [
    "very_bad_segment"
   ]
  },
  {
   "cell_type": "code",
   "execution_count": 92,
   "id": "ff9d58cf",
   "metadata": {},
   "outputs": [
    {
     "data": {
      "text/plain": [
       "\"```\\nAuto's zijn tegenwoordig zo'n belangrijk onderdeel van ons dagelijks leven dat we ons moeilijk een bestaan zonder auto's kunnen voorstellen. Of we nu naar ons werk gaan, boodschappen doen of op vakantie gaan, we hebben onze auto's nodig. Maar helaas brengen auto's ook veel problemen met zich mee, zoals verkeersongevallen, hoge kosten en milieuvervuiling. Om deze problemen aan te pakken, moeten we ons bewust zijn van onze verantwoordelijkheid en ons gedrag aanpassen. Alleen dan kunnen we een duurzame toekomst voor onszelf en onze kinderen veiligstellen.```\\n\""
      ]
     },
     "execution_count": 92,
     "metadata": {},
     "output_type": "execute_result"
    }
   ],
   "source": [
    "corrected_sentence_original"
   ]
  },
  {
   "cell_type": "markdown",
   "id": "7d1d7ad5",
   "metadata": {},
   "source": [
    "Here we can see the danger: the original text is of too low quality, and should be sent back for correction. However, chatgpt will happily go ahead on generate a grammatical sentence, which is completely wrong in this context. There are two options: Either we automatically reject segments that are longer than a certain size, or we can see if we can get chatgpt to filter this out itself."
   ]
  },
  {
   "cell_type": "markdown",
   "id": "c8e8586f",
   "metadata": {},
   "source": [
    "One of the issues that we can have with ChatGPT is that, in general, it will be able to repair non-words and convert them to correct dutch words. However, this does of course not have to be the correct word with regards to the original text. For this, we compare two more things: whether the number of tokens returned by ChatGPT is equal to the number of tokens in the original text, and, if this is the case, what the Levenshtein distance between the tokens is."
   ]
  },
  {
   "cell_type": "markdown",
   "id": "5b0a6e40",
   "metadata": {},
   "source": [
    "## Detailed Evaluation of ChatGPT output\n",
    "\n",
    "For this we load the converted pages from our saved dataframe (i will first combine them), then we will compare them to the tesseract text with the bad segment statistics, and check out the token level distances.\n",
    "\n",
    "We will select pages that are relatively bad, so that there are some things to correct, we take the pages sorted on the number of bad tokens, and randomly sample pages between"
   ]
  },
  {
   "cell_type": "code",
   "execution_count": 93,
   "id": "2bc8bb73",
   "metadata": {},
   "outputs": [],
   "source": [
    "# randomly select the samples\n",
    "selected_besluiten = pdftotext_results.sample(100)\n",
    "selected_ids = selected_besluiten['ID'].tolist()"
   ]
  },
  {
   "cell_type": "code",
   "execution_count": 94,
   "id": "ae1582be",
   "metadata": {},
   "outputs": [],
   "source": [
    "chatgpt_input = experiment_dataframe[experiment_dataframe['ID'].isin(selected_ids)]"
   ]
  },
  {
   "cell_type": "code",
   "execution_count": 95,
   "id": "6e3edd1a",
   "metadata": {},
   "outputs": [],
   "source": [
    "# select 100 bad pages\n",
    "from tqdm import tqdm\n",
    "def get_chatgpt_for_pages(dataframe, text_type: str = 'tesseract'):\n",
    "    missed_pages = []\n",
    "    all_token_pairs = {}\n",
    "    all_corrected_texts = {}\n",
    "    for _, page in tqdm(dataframe.iterrows()):\n",
    "        try:\n",
    "            input_text = page[text_type]\n",
    "            page_id = page['ID']\n",
    "            chatgpt_output = correct_text_with_chatgpt(input_text)\n",
    "\n",
    "            all_token_pairs[page_id] = chatgpt_output['pairs']\n",
    "            all_corrected_texts[page_id] = chatgpt_output['text'] \n",
    "        except openai.error.RateLimitError as r:\n",
    "            missed_pages.append(page_id)\n",
    "        except openai.error.APIError as a:\n",
    "            missed_pages.append(page_id)\n",
    "    return all_token_pairs, all_corrected_texts\n"
   ]
  },
  {
   "cell_type": "code",
   "execution_count": 96,
   "id": "fdc717ca",
   "metadata": {},
   "outputs": [
    {
     "name": "stderr",
     "output_type": "stream",
     "text": [
      "45it [2:29:23, 199.18s/it]\n"
     ]
    },
    {
     "ename": "Timeout",
     "evalue": "Request timed out: HTTPSConnectionPool(host='api.openai.com', port=443): Read timed out. (read timeout=600)",
     "output_type": "error",
     "traceback": [
      "\u001b[0;31m---------------------------------------------------------------------------\u001b[0m",
      "\u001b[0;31mTimeoutError\u001b[0m                              Traceback (most recent call last)",
      "File \u001b[0;32m~/anaconda3/envs/woo_access_env/lib/python3.11/site-packages/urllib3/connectionpool.py:466\u001b[0m, in \u001b[0;36mHTTPConnectionPool._make_request\u001b[0;34m(self, conn, method, url, timeout, chunked, **httplib_request_kw)\u001b[0m\n\u001b[1;32m    462\u001b[0m         \u001b[38;5;28;01mexcept\u001b[39;00m \u001b[38;5;167;01mBaseException\u001b[39;00m \u001b[38;5;28;01mas\u001b[39;00m e:\n\u001b[1;32m    463\u001b[0m             \u001b[38;5;66;03m# Remove the TypeError from the exception chain in\u001b[39;00m\n\u001b[1;32m    464\u001b[0m             \u001b[38;5;66;03m# Python 3 (including for exceptions like SystemExit).\u001b[39;00m\n\u001b[1;32m    465\u001b[0m             \u001b[38;5;66;03m# Otherwise it looks like a bug in the code.\u001b[39;00m\n\u001b[0;32m--> 466\u001b[0m             six\u001b[38;5;241m.\u001b[39mraise_from(e, \u001b[38;5;28;01mNone\u001b[39;00m)\n\u001b[1;32m    467\u001b[0m \u001b[38;5;28;01mexcept\u001b[39;00m (SocketTimeout, BaseSSLError, SocketError) \u001b[38;5;28;01mas\u001b[39;00m e:\n",
      "File \u001b[0;32m<string>:3\u001b[0m, in \u001b[0;36mraise_from\u001b[0;34m(value, from_value)\u001b[0m\n",
      "File \u001b[0;32m~/anaconda3/envs/woo_access_env/lib/python3.11/site-packages/urllib3/connectionpool.py:461\u001b[0m, in \u001b[0;36mHTTPConnectionPool._make_request\u001b[0;34m(self, conn, method, url, timeout, chunked, **httplib_request_kw)\u001b[0m\n\u001b[1;32m    460\u001b[0m \u001b[38;5;28;01mtry\u001b[39;00m:\n\u001b[0;32m--> 461\u001b[0m     httplib_response \u001b[38;5;241m=\u001b[39m conn\u001b[38;5;241m.\u001b[39mgetresponse()\n\u001b[1;32m    462\u001b[0m \u001b[38;5;28;01mexcept\u001b[39;00m \u001b[38;5;167;01mBaseException\u001b[39;00m \u001b[38;5;28;01mas\u001b[39;00m e:\n\u001b[1;32m    463\u001b[0m     \u001b[38;5;66;03m# Remove the TypeError from the exception chain in\u001b[39;00m\n\u001b[1;32m    464\u001b[0m     \u001b[38;5;66;03m# Python 3 (including for exceptions like SystemExit).\u001b[39;00m\n\u001b[1;32m    465\u001b[0m     \u001b[38;5;66;03m# Otherwise it looks like a bug in the code.\u001b[39;00m\n",
      "File \u001b[0;32m~/anaconda3/envs/woo_access_env/lib/python3.11/http/client.py:1375\u001b[0m, in \u001b[0;36mHTTPConnection.getresponse\u001b[0;34m(self)\u001b[0m\n\u001b[1;32m   1374\u001b[0m \u001b[38;5;28;01mtry\u001b[39;00m:\n\u001b[0;32m-> 1375\u001b[0m     response\u001b[38;5;241m.\u001b[39mbegin()\n\u001b[1;32m   1376\u001b[0m \u001b[38;5;28;01mexcept\u001b[39;00m \u001b[38;5;167;01mConnectionError\u001b[39;00m:\n",
      "File \u001b[0;32m~/anaconda3/envs/woo_access_env/lib/python3.11/http/client.py:318\u001b[0m, in \u001b[0;36mHTTPResponse.begin\u001b[0;34m(self)\u001b[0m\n\u001b[1;32m    317\u001b[0m \u001b[38;5;28;01mwhile\u001b[39;00m \u001b[38;5;28;01mTrue\u001b[39;00m:\n\u001b[0;32m--> 318\u001b[0m     version, status, reason \u001b[38;5;241m=\u001b[39m \u001b[38;5;28mself\u001b[39m\u001b[38;5;241m.\u001b[39m_read_status()\n\u001b[1;32m    319\u001b[0m     \u001b[38;5;28;01mif\u001b[39;00m status \u001b[38;5;241m!=\u001b[39m CONTINUE:\n",
      "File \u001b[0;32m~/anaconda3/envs/woo_access_env/lib/python3.11/http/client.py:279\u001b[0m, in \u001b[0;36mHTTPResponse._read_status\u001b[0;34m(self)\u001b[0m\n\u001b[1;32m    278\u001b[0m \u001b[38;5;28;01mdef\u001b[39;00m \u001b[38;5;21m_read_status\u001b[39m(\u001b[38;5;28mself\u001b[39m):\n\u001b[0;32m--> 279\u001b[0m     line \u001b[38;5;241m=\u001b[39m \u001b[38;5;28mstr\u001b[39m(\u001b[38;5;28mself\u001b[39m\u001b[38;5;241m.\u001b[39mfp\u001b[38;5;241m.\u001b[39mreadline(_MAXLINE \u001b[38;5;241m+\u001b[39m \u001b[38;5;241m1\u001b[39m), \u001b[38;5;124m\"\u001b[39m\u001b[38;5;124miso-8859-1\u001b[39m\u001b[38;5;124m\"\u001b[39m)\n\u001b[1;32m    280\u001b[0m     \u001b[38;5;28;01mif\u001b[39;00m \u001b[38;5;28mlen\u001b[39m(line) \u001b[38;5;241m>\u001b[39m _MAXLINE:\n",
      "File \u001b[0;32m~/anaconda3/envs/woo_access_env/lib/python3.11/socket.py:706\u001b[0m, in \u001b[0;36mSocketIO.readinto\u001b[0;34m(self, b)\u001b[0m\n\u001b[1;32m    705\u001b[0m \u001b[38;5;28;01mtry\u001b[39;00m:\n\u001b[0;32m--> 706\u001b[0m     \u001b[38;5;28;01mreturn\u001b[39;00m \u001b[38;5;28mself\u001b[39m\u001b[38;5;241m.\u001b[39m_sock\u001b[38;5;241m.\u001b[39mrecv_into(b)\n\u001b[1;32m    707\u001b[0m \u001b[38;5;28;01mexcept\u001b[39;00m timeout:\n",
      "File \u001b[0;32m~/anaconda3/envs/woo_access_env/lib/python3.11/ssl.py:1278\u001b[0m, in \u001b[0;36mSSLSocket.recv_into\u001b[0;34m(self, buffer, nbytes, flags)\u001b[0m\n\u001b[1;32m   1275\u001b[0m         \u001b[38;5;28;01mraise\u001b[39;00m \u001b[38;5;167;01mValueError\u001b[39;00m(\n\u001b[1;32m   1276\u001b[0m           \u001b[38;5;124m\"\u001b[39m\u001b[38;5;124mnon-zero flags not allowed in calls to recv_into() on \u001b[39m\u001b[38;5;132;01m%s\u001b[39;00m\u001b[38;5;124m\"\u001b[39m \u001b[38;5;241m%\u001b[39m\n\u001b[1;32m   1277\u001b[0m           \u001b[38;5;28mself\u001b[39m\u001b[38;5;241m.\u001b[39m\u001b[38;5;18m__class__\u001b[39m)\n\u001b[0;32m-> 1278\u001b[0m     \u001b[38;5;28;01mreturn\u001b[39;00m \u001b[38;5;28mself\u001b[39m\u001b[38;5;241m.\u001b[39mread(nbytes, buffer)\n\u001b[1;32m   1279\u001b[0m \u001b[38;5;28;01melse\u001b[39;00m:\n",
      "File \u001b[0;32m~/anaconda3/envs/woo_access_env/lib/python3.11/ssl.py:1134\u001b[0m, in \u001b[0;36mSSLSocket.read\u001b[0;34m(self, len, buffer)\u001b[0m\n\u001b[1;32m   1133\u001b[0m \u001b[38;5;28;01mif\u001b[39;00m buffer \u001b[38;5;129;01mis\u001b[39;00m \u001b[38;5;129;01mnot\u001b[39;00m \u001b[38;5;28;01mNone\u001b[39;00m:\n\u001b[0;32m-> 1134\u001b[0m     \u001b[38;5;28;01mreturn\u001b[39;00m \u001b[38;5;28mself\u001b[39m\u001b[38;5;241m.\u001b[39m_sslobj\u001b[38;5;241m.\u001b[39mread(\u001b[38;5;28mlen\u001b[39m, buffer)\n\u001b[1;32m   1135\u001b[0m \u001b[38;5;28;01melse\u001b[39;00m:\n",
      "\u001b[0;31mTimeoutError\u001b[0m: The read operation timed out",
      "\nDuring handling of the above exception, another exception occurred:\n",
      "\u001b[0;31mReadTimeoutError\u001b[0m                          Traceback (most recent call last)",
      "File \u001b[0;32m~/anaconda3/envs/woo_access_env/lib/python3.11/site-packages/requests/adapters.py:487\u001b[0m, in \u001b[0;36mHTTPAdapter.send\u001b[0;34m(self, request, stream, timeout, verify, cert, proxies)\u001b[0m\n\u001b[1;32m    486\u001b[0m \u001b[38;5;28;01mtry\u001b[39;00m:\n\u001b[0;32m--> 487\u001b[0m     resp \u001b[38;5;241m=\u001b[39m conn\u001b[38;5;241m.\u001b[39murlopen(\n\u001b[1;32m    488\u001b[0m         method\u001b[38;5;241m=\u001b[39mrequest\u001b[38;5;241m.\u001b[39mmethod,\n\u001b[1;32m    489\u001b[0m         url\u001b[38;5;241m=\u001b[39murl,\n\u001b[1;32m    490\u001b[0m         body\u001b[38;5;241m=\u001b[39mrequest\u001b[38;5;241m.\u001b[39mbody,\n\u001b[1;32m    491\u001b[0m         headers\u001b[38;5;241m=\u001b[39mrequest\u001b[38;5;241m.\u001b[39mheaders,\n\u001b[1;32m    492\u001b[0m         redirect\u001b[38;5;241m=\u001b[39m\u001b[38;5;28;01mFalse\u001b[39;00m,\n\u001b[1;32m    493\u001b[0m         assert_same_host\u001b[38;5;241m=\u001b[39m\u001b[38;5;28;01mFalse\u001b[39;00m,\n\u001b[1;32m    494\u001b[0m         preload_content\u001b[38;5;241m=\u001b[39m\u001b[38;5;28;01mFalse\u001b[39;00m,\n\u001b[1;32m    495\u001b[0m         decode_content\u001b[38;5;241m=\u001b[39m\u001b[38;5;28;01mFalse\u001b[39;00m,\n\u001b[1;32m    496\u001b[0m         retries\u001b[38;5;241m=\u001b[39m\u001b[38;5;28mself\u001b[39m\u001b[38;5;241m.\u001b[39mmax_retries,\n\u001b[1;32m    497\u001b[0m         timeout\u001b[38;5;241m=\u001b[39mtimeout,\n\u001b[1;32m    498\u001b[0m         chunked\u001b[38;5;241m=\u001b[39mchunked,\n\u001b[1;32m    499\u001b[0m     )\n\u001b[1;32m    501\u001b[0m \u001b[38;5;28;01mexcept\u001b[39;00m (ProtocolError, \u001b[38;5;167;01mOSError\u001b[39;00m) \u001b[38;5;28;01mas\u001b[39;00m err:\n",
      "File \u001b[0;32m~/anaconda3/envs/woo_access_env/lib/python3.11/site-packages/urllib3/connectionpool.py:798\u001b[0m, in \u001b[0;36mHTTPConnectionPool.urlopen\u001b[0;34m(self, method, url, body, headers, retries, redirect, assert_same_host, timeout, pool_timeout, release_conn, chunked, body_pos, **response_kw)\u001b[0m\n\u001b[1;32m    796\u001b[0m     e \u001b[38;5;241m=\u001b[39m ProtocolError(\u001b[38;5;124m\"\u001b[39m\u001b[38;5;124mConnection aborted.\u001b[39m\u001b[38;5;124m\"\u001b[39m, e)\n\u001b[0;32m--> 798\u001b[0m retries \u001b[38;5;241m=\u001b[39m retries\u001b[38;5;241m.\u001b[39mincrement(\n\u001b[1;32m    799\u001b[0m     method, url, error\u001b[38;5;241m=\u001b[39me, _pool\u001b[38;5;241m=\u001b[39m\u001b[38;5;28mself\u001b[39m, _stacktrace\u001b[38;5;241m=\u001b[39msys\u001b[38;5;241m.\u001b[39mexc_info()[\u001b[38;5;241m2\u001b[39m]\n\u001b[1;32m    800\u001b[0m )\n\u001b[1;32m    801\u001b[0m retries\u001b[38;5;241m.\u001b[39msleep()\n",
      "File \u001b[0;32m~/anaconda3/envs/woo_access_env/lib/python3.11/site-packages/urllib3/util/retry.py:550\u001b[0m, in \u001b[0;36mRetry.increment\u001b[0;34m(self, method, url, response, error, _pool, _stacktrace)\u001b[0m\n\u001b[1;32m    549\u001b[0m \u001b[38;5;28;01mif\u001b[39;00m read \u001b[38;5;129;01mis\u001b[39;00m \u001b[38;5;28;01mFalse\u001b[39;00m \u001b[38;5;129;01mor\u001b[39;00m \u001b[38;5;129;01mnot\u001b[39;00m \u001b[38;5;28mself\u001b[39m\u001b[38;5;241m.\u001b[39m_is_method_retryable(method):\n\u001b[0;32m--> 550\u001b[0m     \u001b[38;5;28;01mraise\u001b[39;00m six\u001b[38;5;241m.\u001b[39mreraise(\u001b[38;5;28mtype\u001b[39m(error), error, _stacktrace)\n\u001b[1;32m    551\u001b[0m \u001b[38;5;28;01melif\u001b[39;00m read \u001b[38;5;129;01mis\u001b[39;00m \u001b[38;5;129;01mnot\u001b[39;00m \u001b[38;5;28;01mNone\u001b[39;00m:\n",
      "File \u001b[0;32m~/anaconda3/envs/woo_access_env/lib/python3.11/site-packages/urllib3/packages/six.py:770\u001b[0m, in \u001b[0;36mreraise\u001b[0;34m(tp, value, tb)\u001b[0m\n\u001b[1;32m    769\u001b[0m         \u001b[38;5;28;01mraise\u001b[39;00m value\u001b[38;5;241m.\u001b[39mwith_traceback(tb)\n\u001b[0;32m--> 770\u001b[0m     \u001b[38;5;28;01mraise\u001b[39;00m value\n\u001b[1;32m    771\u001b[0m \u001b[38;5;28;01mfinally\u001b[39;00m:\n",
      "File \u001b[0;32m~/anaconda3/envs/woo_access_env/lib/python3.11/site-packages/urllib3/connectionpool.py:714\u001b[0m, in \u001b[0;36mHTTPConnectionPool.urlopen\u001b[0;34m(self, method, url, body, headers, retries, redirect, assert_same_host, timeout, pool_timeout, release_conn, chunked, body_pos, **response_kw)\u001b[0m\n\u001b[1;32m    713\u001b[0m \u001b[38;5;66;03m# Make the request on the httplib connection object.\u001b[39;00m\n\u001b[0;32m--> 714\u001b[0m httplib_response \u001b[38;5;241m=\u001b[39m \u001b[38;5;28mself\u001b[39m\u001b[38;5;241m.\u001b[39m_make_request(\n\u001b[1;32m    715\u001b[0m     conn,\n\u001b[1;32m    716\u001b[0m     method,\n\u001b[1;32m    717\u001b[0m     url,\n\u001b[1;32m    718\u001b[0m     timeout\u001b[38;5;241m=\u001b[39mtimeout_obj,\n\u001b[1;32m    719\u001b[0m     body\u001b[38;5;241m=\u001b[39mbody,\n\u001b[1;32m    720\u001b[0m     headers\u001b[38;5;241m=\u001b[39mheaders,\n\u001b[1;32m    721\u001b[0m     chunked\u001b[38;5;241m=\u001b[39mchunked,\n\u001b[1;32m    722\u001b[0m )\n\u001b[1;32m    724\u001b[0m \u001b[38;5;66;03m# If we're going to release the connection in ``finally:``, then\u001b[39;00m\n\u001b[1;32m    725\u001b[0m \u001b[38;5;66;03m# the response doesn't need to know about the connection. Otherwise\u001b[39;00m\n\u001b[1;32m    726\u001b[0m \u001b[38;5;66;03m# it will also try to release it and we'll have a double-release\u001b[39;00m\n\u001b[1;32m    727\u001b[0m \u001b[38;5;66;03m# mess.\u001b[39;00m\n",
      "File \u001b[0;32m~/anaconda3/envs/woo_access_env/lib/python3.11/site-packages/urllib3/connectionpool.py:468\u001b[0m, in \u001b[0;36mHTTPConnectionPool._make_request\u001b[0;34m(self, conn, method, url, timeout, chunked, **httplib_request_kw)\u001b[0m\n\u001b[1;32m    467\u001b[0m \u001b[38;5;28;01mexcept\u001b[39;00m (SocketTimeout, BaseSSLError, SocketError) \u001b[38;5;28;01mas\u001b[39;00m e:\n\u001b[0;32m--> 468\u001b[0m     \u001b[38;5;28mself\u001b[39m\u001b[38;5;241m.\u001b[39m_raise_timeout(err\u001b[38;5;241m=\u001b[39me, url\u001b[38;5;241m=\u001b[39murl, timeout_value\u001b[38;5;241m=\u001b[39mread_timeout)\n\u001b[1;32m    469\u001b[0m     \u001b[38;5;28;01mraise\u001b[39;00m\n",
      "File \u001b[0;32m~/anaconda3/envs/woo_access_env/lib/python3.11/site-packages/urllib3/connectionpool.py:357\u001b[0m, in \u001b[0;36mHTTPConnectionPool._raise_timeout\u001b[0;34m(self, err, url, timeout_value)\u001b[0m\n\u001b[1;32m    356\u001b[0m \u001b[38;5;28;01mif\u001b[39;00m \u001b[38;5;28misinstance\u001b[39m(err, SocketTimeout):\n\u001b[0;32m--> 357\u001b[0m     \u001b[38;5;28;01mraise\u001b[39;00m ReadTimeoutError(\n\u001b[1;32m    358\u001b[0m         \u001b[38;5;28mself\u001b[39m, url, \u001b[38;5;124m\"\u001b[39m\u001b[38;5;124mRead timed out. (read timeout=\u001b[39m\u001b[38;5;132;01m%s\u001b[39;00m\u001b[38;5;124m)\u001b[39m\u001b[38;5;124m\"\u001b[39m \u001b[38;5;241m%\u001b[39m timeout_value\n\u001b[1;32m    359\u001b[0m     )\n\u001b[1;32m    361\u001b[0m \u001b[38;5;66;03m# See the above comment about EAGAIN in Python 3. In Python 2 we have\u001b[39;00m\n\u001b[1;32m    362\u001b[0m \u001b[38;5;66;03m# to specifically catch it and throw the timeout error\u001b[39;00m\n",
      "\u001b[0;31mReadTimeoutError\u001b[0m: HTTPSConnectionPool(host='api.openai.com', port=443): Read timed out. (read timeout=600)",
      "\nDuring handling of the above exception, another exception occurred:\n",
      "\u001b[0;31mReadTimeout\u001b[0m                               Traceback (most recent call last)",
      "File \u001b[0;32m~/anaconda3/envs/woo_access_env/lib/python3.11/site-packages/openai/api_requestor.py:596\u001b[0m, in \u001b[0;36mAPIRequestor.request_raw\u001b[0;34m(self, method, url, params, supplied_headers, files, stream, request_id, request_timeout)\u001b[0m\n\u001b[1;32m    595\u001b[0m \u001b[38;5;28;01mtry\u001b[39;00m:\n\u001b[0;32m--> 596\u001b[0m     result \u001b[38;5;241m=\u001b[39m _thread_context\u001b[38;5;241m.\u001b[39msession\u001b[38;5;241m.\u001b[39mrequest(\n\u001b[1;32m    597\u001b[0m         method,\n\u001b[1;32m    598\u001b[0m         abs_url,\n\u001b[1;32m    599\u001b[0m         headers\u001b[38;5;241m=\u001b[39mheaders,\n\u001b[1;32m    600\u001b[0m         data\u001b[38;5;241m=\u001b[39mdata,\n\u001b[1;32m    601\u001b[0m         files\u001b[38;5;241m=\u001b[39mfiles,\n\u001b[1;32m    602\u001b[0m         stream\u001b[38;5;241m=\u001b[39mstream,\n\u001b[1;32m    603\u001b[0m         timeout\u001b[38;5;241m=\u001b[39mrequest_timeout \u001b[38;5;28;01mif\u001b[39;00m request_timeout \u001b[38;5;28;01melse\u001b[39;00m TIMEOUT_SECS,\n\u001b[1;32m    604\u001b[0m         proxies\u001b[38;5;241m=\u001b[39m_thread_context\u001b[38;5;241m.\u001b[39msession\u001b[38;5;241m.\u001b[39mproxies,\n\u001b[1;32m    605\u001b[0m     )\n\u001b[1;32m    606\u001b[0m \u001b[38;5;28;01mexcept\u001b[39;00m requests\u001b[38;5;241m.\u001b[39mexceptions\u001b[38;5;241m.\u001b[39mTimeout \u001b[38;5;28;01mas\u001b[39;00m e:\n",
      "File \u001b[0;32m~/anaconda3/envs/woo_access_env/lib/python3.11/site-packages/requests/sessions.py:587\u001b[0m, in \u001b[0;36mSession.request\u001b[0;34m(self, method, url, params, data, headers, cookies, files, auth, timeout, allow_redirects, proxies, hooks, stream, verify, cert, json)\u001b[0m\n\u001b[1;32m    586\u001b[0m send_kwargs\u001b[38;5;241m.\u001b[39mupdate(settings)\n\u001b[0;32m--> 587\u001b[0m resp \u001b[38;5;241m=\u001b[39m \u001b[38;5;28mself\u001b[39m\u001b[38;5;241m.\u001b[39msend(prep, \u001b[38;5;241m*\u001b[39m\u001b[38;5;241m*\u001b[39msend_kwargs)\n\u001b[1;32m    589\u001b[0m \u001b[38;5;28;01mreturn\u001b[39;00m resp\n",
      "File \u001b[0;32m~/anaconda3/envs/woo_access_env/lib/python3.11/site-packages/requests/sessions.py:701\u001b[0m, in \u001b[0;36mSession.send\u001b[0;34m(self, request, **kwargs)\u001b[0m\n\u001b[1;32m    700\u001b[0m \u001b[38;5;66;03m# Send the request\u001b[39;00m\n\u001b[0;32m--> 701\u001b[0m r \u001b[38;5;241m=\u001b[39m adapter\u001b[38;5;241m.\u001b[39msend(request, \u001b[38;5;241m*\u001b[39m\u001b[38;5;241m*\u001b[39mkwargs)\n\u001b[1;32m    703\u001b[0m \u001b[38;5;66;03m# Total elapsed time of the request (approximately)\u001b[39;00m\n",
      "File \u001b[0;32m~/anaconda3/envs/woo_access_env/lib/python3.11/site-packages/requests/adapters.py:533\u001b[0m, in \u001b[0;36mHTTPAdapter.send\u001b[0;34m(self, request, stream, timeout, verify, cert, proxies)\u001b[0m\n\u001b[1;32m    532\u001b[0m \u001b[38;5;28;01melif\u001b[39;00m \u001b[38;5;28misinstance\u001b[39m(e, ReadTimeoutError):\n\u001b[0;32m--> 533\u001b[0m     \u001b[38;5;28;01mraise\u001b[39;00m ReadTimeout(e, request\u001b[38;5;241m=\u001b[39mrequest)\n\u001b[1;32m    534\u001b[0m \u001b[38;5;28;01melif\u001b[39;00m \u001b[38;5;28misinstance\u001b[39m(e, _InvalidHeader):\n",
      "\u001b[0;31mReadTimeout\u001b[0m: HTTPSConnectionPool(host='api.openai.com', port=443): Read timed out. (read timeout=600)",
      "\nThe above exception was the direct cause of the following exception:\n",
      "\u001b[0;31mTimeout\u001b[0m                                   Traceback (most recent call last)",
      "Cell \u001b[0;32mIn[96], line 1\u001b[0m\n\u001b[0;32m----> 1\u001b[0m pdftotext_chatgpt_token_pairs, pdftotext_chatgpt_text \u001b[38;5;241m=\u001b[39m get_chatgpt_for_pages(chatgpt_input, text_type\u001b[38;5;241m=\u001b[39m\u001b[38;5;124m'\u001b[39m\u001b[38;5;124moriginal\u001b[39m\u001b[38;5;124m'\u001b[39m)\n\u001b[1;32m      2\u001b[0m tesseract_chatgpt_token_pairs, tesseract_chatgpt_text \u001b[38;5;241m=\u001b[39m get_chatgpt_for_pages(chatgpt_input, text_type\u001b[38;5;241m=\u001b[39m\u001b[38;5;124m'\u001b[39m\u001b[38;5;124mteseract\u001b[39m\u001b[38;5;124m'\u001b[39m)\n",
      "Cell \u001b[0;32mIn[95], line 11\u001b[0m, in \u001b[0;36mget_chatgpt_for_pages\u001b[0;34m(dataframe, text_type)\u001b[0m\n\u001b[1;32m      9\u001b[0m input_text \u001b[38;5;241m=\u001b[39m page[text_type]\n\u001b[1;32m     10\u001b[0m page_id \u001b[38;5;241m=\u001b[39m page[\u001b[38;5;124m'\u001b[39m\u001b[38;5;124mID\u001b[39m\u001b[38;5;124m'\u001b[39m]\n\u001b[0;32m---> 11\u001b[0m chatgpt_output \u001b[38;5;241m=\u001b[39m correct_text_with_chatgpt(input_text)\n\u001b[1;32m     13\u001b[0m all_token_pairs[page_id] \u001b[38;5;241m=\u001b[39m chatgpt_output[\u001b[38;5;124m'\u001b[39m\u001b[38;5;124mpairs\u001b[39m\u001b[38;5;124m'\u001b[39m]\n\u001b[1;32m     14\u001b[0m all_corrected_texts[page_id] \u001b[38;5;241m=\u001b[39m chatgpt_output[\u001b[38;5;124m'\u001b[39m\u001b[38;5;124mtext\u001b[39m\u001b[38;5;124m'\u001b[39m] \n",
      "Cell \u001b[0;32mIn[89], line 44\u001b[0m, in \u001b[0;36mcorrect_text_with_chatgpt\u001b[0;34m(input_document, context_size)\u001b[0m\n\u001b[1;32m     42\u001b[0m end_with_context \u001b[38;5;241m=\u001b[39m end_idx\u001b[38;5;241m+\u001b[39m\u001b[38;5;241m1\u001b[39m\u001b[38;5;241m+\u001b[39mcontext_size \u001b[38;5;28;01mif\u001b[39;00m end_idx\u001b[38;5;241m+\u001b[39m\u001b[38;5;241m1\u001b[39m\u001b[38;5;241m+\u001b[39mcontext_size \u001b[38;5;241m<\u001b[39m \u001b[38;5;28mlen\u001b[39m(tokens) \u001b[38;5;28;01melse\u001b[39;00m \u001b[38;5;28mlen\u001b[39m(tokens)\n\u001b[1;32m     43\u001b[0m input_text \u001b[38;5;241m=\u001b[39m \u001b[38;5;124m\"\u001b[39m\u001b[38;5;124m \u001b[39m\u001b[38;5;124m\"\u001b[39m\u001b[38;5;241m.\u001b[39mjoin(tokens[start_with_context:end_with_context])\n\u001b[0;32m---> 44\u001b[0m corrected_text \u001b[38;5;241m=\u001b[39m get_response(prompt_with_sentence(input_text), model\u001b[38;5;241m=\u001b[39m\u001b[38;5;124m\"\u001b[39m\u001b[38;5;124mgpt-3.5-turbo-0301\u001b[39m\u001b[38;5;124m\"\u001b[39m)\n\u001b[1;32m     45\u001b[0m corrected_text \u001b[38;5;241m=\u001b[39m \u001b[38;5;124m\"\u001b[39m\u001b[38;5;124m \u001b[39m\u001b[38;5;124m\"\u001b[39m\u001b[38;5;241m.\u001b[39mjoin(corrected_text\u001b[38;5;241m.\u001b[39msplit()[(start_idx\u001b[38;5;241m-\u001b[39mstart_with_context): (start_idx\u001b[38;5;241m-\u001b[39mstart_with_context)\u001b[38;5;241m+\u001b[39m(end_idx\u001b[38;5;241m-\u001b[39mstart_idx)\u001b[38;5;241m+\u001b[39m\u001b[38;5;241m1\u001b[39m])\n\u001b[1;32m     46\u001b[0m segment_pairs\u001b[38;5;241m.\u001b[39mappend([\u001b[38;5;124m\"\u001b[39m\u001b[38;5;124m \u001b[39m\u001b[38;5;124m\"\u001b[39m\u001b[38;5;241m.\u001b[39mjoin(tokens[start_idx:end_idx\u001b[38;5;241m+\u001b[39m\u001b[38;5;241m1\u001b[39m]), corrected_text])\n",
      "Cell \u001b[0;32mIn[65], line 10\u001b[0m, in \u001b[0;36mget_response\u001b[0;34m(prompt, model)\u001b[0m\n\u001b[1;32m      8\u001b[0m \u001b[38;5;28;01mdef\u001b[39;00m \u001b[38;5;21mget_response\u001b[39m(prompt: \u001b[38;5;28mstr\u001b[39m, model) \u001b[38;5;241m-\u001b[39m\u001b[38;5;241m>\u001b[39m \u001b[38;5;28mstr\u001b[39m:\n\u001b[1;32m      9\u001b[0m     messages \u001b[38;5;241m=\u001b[39m [{\u001b[38;5;124m\"\u001b[39m\u001b[38;5;124mrole\u001b[39m\u001b[38;5;124m\"\u001b[39m: \u001b[38;5;124m\"\u001b[39m\u001b[38;5;124muser\u001b[39m\u001b[38;5;124m\"\u001b[39m, \u001b[38;5;124m\"\u001b[39m\u001b[38;5;124mcontent\u001b[39m\u001b[38;5;124m\"\u001b[39m: prompt}]\n\u001b[0;32m---> 10\u001b[0m     response \u001b[38;5;241m=\u001b[39m openai\u001b[38;5;241m.\u001b[39mChatCompletion\u001b[38;5;241m.\u001b[39mcreate(\n\u001b[1;32m     11\u001b[0m         model\u001b[38;5;241m=\u001b[39mmodel,\n\u001b[1;32m     12\u001b[0m         messages\u001b[38;5;241m=\u001b[39mmessages, temperature\u001b[38;5;241m=\u001b[39m\u001b[38;5;241m0.0\u001b[39m)\n\u001b[1;32m     13\u001b[0m     \u001b[38;5;28;01mreturn\u001b[39;00m response\u001b[38;5;241m.\u001b[39mchoices[\u001b[38;5;241m0\u001b[39m]\u001b[38;5;241m.\u001b[39mmessage[\u001b[38;5;124m\"\u001b[39m\u001b[38;5;124mcontent\u001b[39m\u001b[38;5;124m\"\u001b[39m]\n",
      "File \u001b[0;32m~/anaconda3/envs/woo_access_env/lib/python3.11/site-packages/openai/api_resources/chat_completion.py:25\u001b[0m, in \u001b[0;36mChatCompletion.create\u001b[0;34m(cls, *args, **kwargs)\u001b[0m\n\u001b[1;32m     23\u001b[0m \u001b[38;5;28;01mwhile\u001b[39;00m \u001b[38;5;28;01mTrue\u001b[39;00m:\n\u001b[1;32m     24\u001b[0m     \u001b[38;5;28;01mtry\u001b[39;00m:\n\u001b[0;32m---> 25\u001b[0m         \u001b[38;5;28;01mreturn\u001b[39;00m \u001b[38;5;28msuper\u001b[39m()\u001b[38;5;241m.\u001b[39mcreate(\u001b[38;5;241m*\u001b[39margs, \u001b[38;5;241m*\u001b[39m\u001b[38;5;241m*\u001b[39mkwargs)\n\u001b[1;32m     26\u001b[0m     \u001b[38;5;28;01mexcept\u001b[39;00m TryAgain \u001b[38;5;28;01mas\u001b[39;00m e:\n\u001b[1;32m     27\u001b[0m         \u001b[38;5;28;01mif\u001b[39;00m timeout \u001b[38;5;129;01mis\u001b[39;00m \u001b[38;5;129;01mnot\u001b[39;00m \u001b[38;5;28;01mNone\u001b[39;00m \u001b[38;5;129;01mand\u001b[39;00m time\u001b[38;5;241m.\u001b[39mtime() \u001b[38;5;241m>\u001b[39m start \u001b[38;5;241m+\u001b[39m timeout:\n",
      "File \u001b[0;32m~/anaconda3/envs/woo_access_env/lib/python3.11/site-packages/openai/api_resources/abstract/engine_api_resource.py:153\u001b[0m, in \u001b[0;36mEngineAPIResource.create\u001b[0;34m(cls, api_key, api_base, api_type, request_id, api_version, organization, **params)\u001b[0m\n\u001b[1;32m    127\u001b[0m \u001b[38;5;129m@classmethod\u001b[39m\n\u001b[1;32m    128\u001b[0m \u001b[38;5;28;01mdef\u001b[39;00m \u001b[38;5;21mcreate\u001b[39m(\n\u001b[1;32m    129\u001b[0m     \u001b[38;5;28mcls\u001b[39m,\n\u001b[0;32m   (...)\u001b[0m\n\u001b[1;32m    136\u001b[0m     \u001b[38;5;241m*\u001b[39m\u001b[38;5;241m*\u001b[39mparams,\n\u001b[1;32m    137\u001b[0m ):\n\u001b[1;32m    138\u001b[0m     (\n\u001b[1;32m    139\u001b[0m         deployment_id,\n\u001b[1;32m    140\u001b[0m         engine,\n\u001b[0;32m   (...)\u001b[0m\n\u001b[1;32m    150\u001b[0m         api_key, api_base, api_type, api_version, organization, \u001b[38;5;241m*\u001b[39m\u001b[38;5;241m*\u001b[39mparams\n\u001b[1;32m    151\u001b[0m     )\n\u001b[0;32m--> 153\u001b[0m     response, _, api_key \u001b[38;5;241m=\u001b[39m requestor\u001b[38;5;241m.\u001b[39mrequest(\n\u001b[1;32m    154\u001b[0m         \u001b[38;5;124m\"\u001b[39m\u001b[38;5;124mpost\u001b[39m\u001b[38;5;124m\"\u001b[39m,\n\u001b[1;32m    155\u001b[0m         url,\n\u001b[1;32m    156\u001b[0m         params\u001b[38;5;241m=\u001b[39mparams,\n\u001b[1;32m    157\u001b[0m         headers\u001b[38;5;241m=\u001b[39mheaders,\n\u001b[1;32m    158\u001b[0m         stream\u001b[38;5;241m=\u001b[39mstream,\n\u001b[1;32m    159\u001b[0m         request_id\u001b[38;5;241m=\u001b[39mrequest_id,\n\u001b[1;32m    160\u001b[0m         request_timeout\u001b[38;5;241m=\u001b[39mrequest_timeout,\n\u001b[1;32m    161\u001b[0m     )\n\u001b[1;32m    163\u001b[0m     \u001b[38;5;28;01mif\u001b[39;00m stream:\n\u001b[1;32m    164\u001b[0m         \u001b[38;5;66;03m# must be an iterator\u001b[39;00m\n\u001b[1;32m    165\u001b[0m         \u001b[38;5;28;01massert\u001b[39;00m \u001b[38;5;129;01mnot\u001b[39;00m \u001b[38;5;28misinstance\u001b[39m(response, OpenAIResponse)\n",
      "File \u001b[0;32m~/anaconda3/envs/woo_access_env/lib/python3.11/site-packages/openai/api_requestor.py:288\u001b[0m, in \u001b[0;36mAPIRequestor.request\u001b[0;34m(self, method, url, params, headers, files, stream, request_id, request_timeout)\u001b[0m\n\u001b[1;32m    277\u001b[0m \u001b[38;5;28;01mdef\u001b[39;00m \u001b[38;5;21mrequest\u001b[39m(\n\u001b[1;32m    278\u001b[0m     \u001b[38;5;28mself\u001b[39m,\n\u001b[1;32m    279\u001b[0m     method,\n\u001b[0;32m   (...)\u001b[0m\n\u001b[1;32m    286\u001b[0m     request_timeout: Optional[Union[\u001b[38;5;28mfloat\u001b[39m, Tuple[\u001b[38;5;28mfloat\u001b[39m, \u001b[38;5;28mfloat\u001b[39m]]] \u001b[38;5;241m=\u001b[39m \u001b[38;5;28;01mNone\u001b[39;00m,\n\u001b[1;32m    287\u001b[0m ) \u001b[38;5;241m-\u001b[39m\u001b[38;5;241m>\u001b[39m Tuple[Union[OpenAIResponse, Iterator[OpenAIResponse]], \u001b[38;5;28mbool\u001b[39m, \u001b[38;5;28mstr\u001b[39m]:\n\u001b[0;32m--> 288\u001b[0m     result \u001b[38;5;241m=\u001b[39m \u001b[38;5;28mself\u001b[39m\u001b[38;5;241m.\u001b[39mrequest_raw(\n\u001b[1;32m    289\u001b[0m         method\u001b[38;5;241m.\u001b[39mlower(),\n\u001b[1;32m    290\u001b[0m         url,\n\u001b[1;32m    291\u001b[0m         params\u001b[38;5;241m=\u001b[39mparams,\n\u001b[1;32m    292\u001b[0m         supplied_headers\u001b[38;5;241m=\u001b[39mheaders,\n\u001b[1;32m    293\u001b[0m         files\u001b[38;5;241m=\u001b[39mfiles,\n\u001b[1;32m    294\u001b[0m         stream\u001b[38;5;241m=\u001b[39mstream,\n\u001b[1;32m    295\u001b[0m         request_id\u001b[38;5;241m=\u001b[39mrequest_id,\n\u001b[1;32m    296\u001b[0m         request_timeout\u001b[38;5;241m=\u001b[39mrequest_timeout,\n\u001b[1;32m    297\u001b[0m     )\n\u001b[1;32m    298\u001b[0m     resp, got_stream \u001b[38;5;241m=\u001b[39m \u001b[38;5;28mself\u001b[39m\u001b[38;5;241m.\u001b[39m_interpret_response(result, stream)\n\u001b[1;32m    299\u001b[0m     \u001b[38;5;28;01mreturn\u001b[39;00m resp, got_stream, \u001b[38;5;28mself\u001b[39m\u001b[38;5;241m.\u001b[39mapi_key\n",
      "File \u001b[0;32m~/anaconda3/envs/woo_access_env/lib/python3.11/site-packages/openai/api_requestor.py:607\u001b[0m, in \u001b[0;36mAPIRequestor.request_raw\u001b[0;34m(self, method, url, params, supplied_headers, files, stream, request_id, request_timeout)\u001b[0m\n\u001b[1;32m    596\u001b[0m     result \u001b[38;5;241m=\u001b[39m _thread_context\u001b[38;5;241m.\u001b[39msession\u001b[38;5;241m.\u001b[39mrequest(\n\u001b[1;32m    597\u001b[0m         method,\n\u001b[1;32m    598\u001b[0m         abs_url,\n\u001b[0;32m   (...)\u001b[0m\n\u001b[1;32m    604\u001b[0m         proxies\u001b[38;5;241m=\u001b[39m_thread_context\u001b[38;5;241m.\u001b[39msession\u001b[38;5;241m.\u001b[39mproxies,\n\u001b[1;32m    605\u001b[0m     )\n\u001b[1;32m    606\u001b[0m \u001b[38;5;28;01mexcept\u001b[39;00m requests\u001b[38;5;241m.\u001b[39mexceptions\u001b[38;5;241m.\u001b[39mTimeout \u001b[38;5;28;01mas\u001b[39;00m e:\n\u001b[0;32m--> 607\u001b[0m     \u001b[38;5;28;01mraise\u001b[39;00m error\u001b[38;5;241m.\u001b[39mTimeout(\u001b[38;5;124m\"\u001b[39m\u001b[38;5;124mRequest timed out: \u001b[39m\u001b[38;5;132;01m{}\u001b[39;00m\u001b[38;5;124m\"\u001b[39m\u001b[38;5;241m.\u001b[39mformat(e)) \u001b[38;5;28;01mfrom\u001b[39;00m \u001b[38;5;21;01me\u001b[39;00m\n\u001b[1;32m    608\u001b[0m \u001b[38;5;28;01mexcept\u001b[39;00m requests\u001b[38;5;241m.\u001b[39mexceptions\u001b[38;5;241m.\u001b[39mRequestException \u001b[38;5;28;01mas\u001b[39;00m e:\n\u001b[1;32m    609\u001b[0m     \u001b[38;5;28;01mraise\u001b[39;00m error\u001b[38;5;241m.\u001b[39mAPIConnectionError(\n\u001b[1;32m    610\u001b[0m         \u001b[38;5;124m\"\u001b[39m\u001b[38;5;124mError communicating with OpenAI: \u001b[39m\u001b[38;5;132;01m{}\u001b[39;00m\u001b[38;5;124m\"\u001b[39m\u001b[38;5;241m.\u001b[39mformat(e)\n\u001b[1;32m    611\u001b[0m     ) \u001b[38;5;28;01mfrom\u001b[39;00m \u001b[38;5;21;01me\u001b[39;00m\n",
      "\u001b[0;31mTimeout\u001b[0m: Request timed out: HTTPSConnectionPool(host='api.openai.com', port=443): Read timed out. (read timeout=600)"
     ]
    }
   ],
   "source": [
    "pdftotext_chatgpt_token_pairs, pdftotext_chatgpt_text = get_chatgpt_for_pages(chatgpt_input, text_type='original')\n",
    "tesseract_chatgpt_token_pairs, tesseract_chatgpt_text = get_chatgpt_for_pages(chatgpt_input, text_type='teseract')"
   ]
  },
  {
   "cell_type": "markdown",
   "id": "300b4cab",
   "metadata": {},
   "source": [
    "As the main goal here is to compare to the texts without ChatGPT we get the stats of the versions without ChatGPT of the selected sample, so that we can compare it to the versions we corrected with ChatGPT."
   ]
  },
  {
   "cell_type": "code",
   "execution_count": 72,
   "id": "f927dd48",
   "metadata": {},
   "outputs": [
    {
     "data": {
      "text/html": [
       "<div>\n",
       "<style scoped>\n",
       "    .dataframe tbody tr th:only-of-type {\n",
       "        vertical-align: middle;\n",
       "    }\n",
       "\n",
       "    .dataframe tbody tr th {\n",
       "        vertical-align: top;\n",
       "    }\n",
       "\n",
       "    .dataframe thead th {\n",
       "        text-align: right;\n",
       "    }\n",
       "</style>\n",
       "<table border=\"1\" class=\"dataframe\">\n",
       "  <thead>\n",
       "    <tr style=\"text-align: right;\">\n",
       "      <th></th>\n",
       "      <th>Number of bad Segments</th>\n",
       "      <th>Mean Bad Segment Length</th>\n",
       "      <th>Max Bad Segment Length</th>\n",
       "      <th>Min Bad Segment Length</th>\n",
       "      <th>Number of bad Tokens</th>\n",
       "      <th>Bad Ratio</th>\n",
       "      <th>Num Tokens</th>\n",
       "    </tr>\n",
       "  </thead>\n",
       "  <tbody>\n",
       "    <tr>\n",
       "      <th>count</th>\n",
       "      <td>100.00</td>\n",
       "      <td>100.00</td>\n",
       "      <td>100.00</td>\n",
       "      <td>100.00</td>\n",
       "      <td>100.00</td>\n",
       "      <td>100.00</td>\n",
       "      <td>100.00</td>\n",
       "    </tr>\n",
       "    <tr>\n",
       "      <th>mean</th>\n",
       "      <td>7.91</td>\n",
       "      <td>8.98</td>\n",
       "      <td>13.18</td>\n",
       "      <td>7.65</td>\n",
       "      <td>28.63</td>\n",
       "      <td>0.13</td>\n",
       "      <td>269.51</td>\n",
       "    </tr>\n",
       "    <tr>\n",
       "      <th>std</th>\n",
       "      <td>8.11</td>\n",
       "      <td>43.16</td>\n",
       "      <td>47.46</td>\n",
       "      <td>42.45</td>\n",
       "      <td>66.49</td>\n",
       "      <td>0.25</td>\n",
       "      <td>150.27</td>\n",
       "    </tr>\n",
       "    <tr>\n",
       "      <th>min</th>\n",
       "      <td>0.00</td>\n",
       "      <td>0.00</td>\n",
       "      <td>0.00</td>\n",
       "      <td>0.00</td>\n",
       "      <td>0.00</td>\n",
       "      <td>0.00</td>\n",
       "      <td>1.00</td>\n",
       "    </tr>\n",
       "    <tr>\n",
       "      <th>25%</th>\n",
       "      <td>2.00</td>\n",
       "      <td>1.00</td>\n",
       "      <td>1.00</td>\n",
       "      <td>1.00</td>\n",
       "      <td>3.00</td>\n",
       "      <td>0.02</td>\n",
       "      <td>142.50</td>\n",
       "    </tr>\n",
       "    <tr>\n",
       "      <th>50%</th>\n",
       "      <td>6.00</td>\n",
       "      <td>1.40</td>\n",
       "      <td>3.00</td>\n",
       "      <td>1.00</td>\n",
       "      <td>10.50</td>\n",
       "      <td>0.04</td>\n",
       "      <td>281.50</td>\n",
       "    </tr>\n",
       "    <tr>\n",
       "      <th>75%</th>\n",
       "      <td>11.00</td>\n",
       "      <td>2.16</td>\n",
       "      <td>6.00</td>\n",
       "      <td>1.00</td>\n",
       "      <td>19.50</td>\n",
       "      <td>0.09</td>\n",
       "      <td>373.75</td>\n",
       "    </tr>\n",
       "    <tr>\n",
       "      <th>max</th>\n",
       "      <td>51.00</td>\n",
       "      <td>363.00</td>\n",
       "      <td>363.00</td>\n",
       "      <td>363.00</td>\n",
       "      <td>365.00</td>\n",
       "      <td>1.00</td>\n",
       "      <td>699.00</td>\n",
       "    </tr>\n",
       "  </tbody>\n",
       "</table>\n",
       "</div>"
      ],
      "text/plain": [
       "       Number of bad Segments  Mean Bad Segment Length  \\\n",
       "count                  100.00                   100.00   \n",
       "mean                     7.91                     8.98   \n",
       "std                      8.11                    43.16   \n",
       "min                      0.00                     0.00   \n",
       "25%                      2.00                     1.00   \n",
       "50%                      6.00                     1.40   \n",
       "75%                     11.00                     2.16   \n",
       "max                     51.00                   363.00   \n",
       "\n",
       "       Max Bad Segment Length  Min Bad Segment Length  Number of bad Tokens  \\\n",
       "count                  100.00                  100.00                100.00   \n",
       "mean                    13.18                    7.65                 28.63   \n",
       "std                     47.46                   42.45                 66.49   \n",
       "min                      0.00                    0.00                  0.00   \n",
       "25%                      1.00                    1.00                  3.00   \n",
       "50%                      3.00                    1.00                 10.50   \n",
       "75%                      6.00                    1.00                 19.50   \n",
       "max                    363.00                  363.00                365.00   \n",
       "\n",
       "       Bad Ratio  Num Tokens  \n",
       "count     100.00      100.00  \n",
       "mean        0.13      269.51  \n",
       "std         0.25      150.27  \n",
       "min         0.00        1.00  \n",
       "25%         0.02      142.50  \n",
       "50%         0.04      281.50  \n",
       "75%         0.09      373.75  \n",
       "max         1.00      699.00  "
      ]
     },
     "execution_count": 72,
     "metadata": {},
     "output_type": "execute_result"
    }
   ],
   "source": [
    "pdftotext_results[pdftotext_results['ID'].isin(selected_ids)].describe().round(2)"
   ]
  },
  {
   "cell_type": "code",
   "execution_count": 73,
   "id": "c97221d6",
   "metadata": {},
   "outputs": [
    {
     "data": {
      "text/html": [
       "<div>\n",
       "<style scoped>\n",
       "    .dataframe tbody tr th:only-of-type {\n",
       "        vertical-align: middle;\n",
       "    }\n",
       "\n",
       "    .dataframe tbody tr th {\n",
       "        vertical-align: top;\n",
       "    }\n",
       "\n",
       "    .dataframe thead th {\n",
       "        text-align: right;\n",
       "    }\n",
       "</style>\n",
       "<table border=\"1\" class=\"dataframe\">\n",
       "  <thead>\n",
       "    <tr style=\"text-align: right;\">\n",
       "      <th></th>\n",
       "      <th>Number of bad Segments</th>\n",
       "      <th>Mean Bad Segment Length</th>\n",
       "      <th>Max Bad Segment Length</th>\n",
       "      <th>Min Bad Segment Length</th>\n",
       "      <th>Number of bad Tokens</th>\n",
       "      <th>Bad Ratio</th>\n",
       "      <th>Num Tokens</th>\n",
       "    </tr>\n",
       "  </thead>\n",
       "  <tbody>\n",
       "    <tr>\n",
       "      <th>count</th>\n",
       "      <td>100.00</td>\n",
       "      <td>100.00</td>\n",
       "      <td>100.00</td>\n",
       "      <td>100.00</td>\n",
       "      <td>100.00</td>\n",
       "      <td>100.00</td>\n",
       "      <td>100.00</td>\n",
       "    </tr>\n",
       "    <tr>\n",
       "      <th>mean</th>\n",
       "      <td>6.60</td>\n",
       "      <td>1.75</td>\n",
       "      <td>5.82</td>\n",
       "      <td>1.01</td>\n",
       "      <td>15.22</td>\n",
       "      <td>0.06</td>\n",
       "      <td>277.57</td>\n",
       "    </tr>\n",
       "    <tr>\n",
       "      <th>std</th>\n",
       "      <td>6.09</td>\n",
       "      <td>2.13</td>\n",
       "      <td>15.64</td>\n",
       "      <td>0.50</td>\n",
       "      <td>33.63</td>\n",
       "      <td>0.12</td>\n",
       "      <td>147.65</td>\n",
       "    </tr>\n",
       "    <tr>\n",
       "      <th>min</th>\n",
       "      <td>0.00</td>\n",
       "      <td>0.00</td>\n",
       "      <td>0.00</td>\n",
       "      <td>0.00</td>\n",
       "      <td>0.00</td>\n",
       "      <td>0.00</td>\n",
       "      <td>11.00</td>\n",
       "    </tr>\n",
       "    <tr>\n",
       "      <th>25%</th>\n",
       "      <td>2.00</td>\n",
       "      <td>1.00</td>\n",
       "      <td>1.00</td>\n",
       "      <td>1.00</td>\n",
       "      <td>3.00</td>\n",
       "      <td>0.01</td>\n",
       "      <td>144.50</td>\n",
       "    </tr>\n",
       "    <tr>\n",
       "      <th>50%</th>\n",
       "      <td>5.00</td>\n",
       "      <td>1.22</td>\n",
       "      <td>2.50</td>\n",
       "      <td>1.00</td>\n",
       "      <td>8.00</td>\n",
       "      <td>0.03</td>\n",
       "      <td>285.50</td>\n",
       "    </tr>\n",
       "    <tr>\n",
       "      <th>75%</th>\n",
       "      <td>9.00</td>\n",
       "      <td>1.88</td>\n",
       "      <td>5.00</td>\n",
       "      <td>1.00</td>\n",
       "      <td>15.25</td>\n",
       "      <td>0.06</td>\n",
       "      <td>381.50</td>\n",
       "    </tr>\n",
       "    <tr>\n",
       "      <th>max</th>\n",
       "      <td>41.00</td>\n",
       "      <td>20.18</td>\n",
       "      <td>113.00</td>\n",
       "      <td>4.00</td>\n",
       "      <td>231.00</td>\n",
       "      <td>0.83</td>\n",
       "      <td>676.00</td>\n",
       "    </tr>\n",
       "  </tbody>\n",
       "</table>\n",
       "</div>"
      ],
      "text/plain": [
       "       Number of bad Segments  Mean Bad Segment Length  \\\n",
       "count                  100.00                   100.00   \n",
       "mean                     6.60                     1.75   \n",
       "std                      6.09                     2.13   \n",
       "min                      0.00                     0.00   \n",
       "25%                      2.00                     1.00   \n",
       "50%                      5.00                     1.22   \n",
       "75%                      9.00                     1.88   \n",
       "max                     41.00                    20.18   \n",
       "\n",
       "       Max Bad Segment Length  Min Bad Segment Length  Number of bad Tokens  \\\n",
       "count                  100.00                  100.00                100.00   \n",
       "mean                     5.82                    1.01                 15.22   \n",
       "std                     15.64                    0.50                 33.63   \n",
       "min                      0.00                    0.00                  0.00   \n",
       "25%                      1.00                    1.00                  3.00   \n",
       "50%                      2.50                    1.00                  8.00   \n",
       "75%                      5.00                    1.00                 15.25   \n",
       "max                    113.00                    4.00                231.00   \n",
       "\n",
       "       Bad Ratio  Num Tokens  \n",
       "count     100.00      100.00  \n",
       "mean        0.06      277.57  \n",
       "std         0.12      147.65  \n",
       "min         0.00       11.00  \n",
       "25%         0.01      144.50  \n",
       "50%         0.03      285.50  \n",
       "75%         0.06      381.50  \n",
       "max         0.83      676.00  "
      ]
     },
     "execution_count": 73,
     "metadata": {},
     "output_type": "execute_result"
    }
   ],
   "source": [
    "tesseract_results[tesseract_results['ID'].isin(selected_ids)].describe().round(2)"
   ]
  },
  {
   "cell_type": "code",
   "execution_count": 218,
   "id": "66e59c8a",
   "metadata": {},
   "outputs": [
    {
     "ename": "NameError",
     "evalue": "name 'pdf_chatgpt_results' is not defined",
     "output_type": "error",
     "traceback": [
      "\u001b[0;31m---------------------------------------------------------------------------\u001b[0m",
      "\u001b[0;31mNameError\u001b[0m                                 Traceback (most recent call last)",
      "Cell \u001b[0;32mIn[218], line 1\u001b[0m\n\u001b[0;32m----> 1\u001b[0m pdf_chatgpt_results\u001b[38;5;241m.\u001b[39mdescribe()\u001b[38;5;241m.\u001b[39mround(\u001b[38;5;241m2\u001b[39m)\n",
      "\u001b[0;31mNameError\u001b[0m: name 'pdf_chatgpt_results' is not defined"
     ]
    }
   ],
   "source": [
    "pdf_chatgpt_results.describe().round(2)"
   ]
  },
  {
   "cell_type": "code",
   "execution_count": 219,
   "id": "5c1d9dcd",
   "metadata": {},
   "outputs": [
    {
     "ename": "NameError",
     "evalue": "name 'tes_chatgpt_results' is not defined",
     "output_type": "error",
     "traceback": [
      "\u001b[0;31m---------------------------------------------------------------------------\u001b[0m",
      "\u001b[0;31mNameError\u001b[0m                                 Traceback (most recent call last)",
      "Cell \u001b[0;32mIn[219], line 1\u001b[0m\n\u001b[0;32m----> 1\u001b[0m tes_chatgpt_results\u001b[38;5;241m.\u001b[39mdescribe()\u001b[38;5;241m.\u001b[39mround(\u001b[38;5;241m2\u001b[39m)\n",
      "\u001b[0;31mNameError\u001b[0m: name 'tes_chatgpt_results' is not defined"
     ]
    }
   ],
   "source": [
    "tes_chatgpt_results.describe().round(2)"
   ]
  },
  {
   "cell_type": "markdown",
   "id": "1bf366b1",
   "metadata": {},
   "source": [
    "## PDF Layout Conversion"
   ]
  },
  {
   "cell_type": "code",
   "execution_count": null,
   "id": "64f61f3d",
   "metadata": {},
   "outputs": [],
   "source": []
  }
 ],
 "metadata": {
  "kernelspec": {
   "display_name": "accessibilifier_env",
   "language": "python",
   "name": "accessibilifier_env"
  },
  "language_info": {
   "codemirror_mode": {
    "name": "ipython",
    "version": 3
   },
   "file_extension": ".py",
   "mimetype": "text/x-python",
   "name": "python",
   "nbconvert_exporter": "python",
   "pygments_lexer": "ipython3",
   "version": "3.9.12"
  }
 },
 "nbformat": 4,
 "nbformat_minor": 5
}
